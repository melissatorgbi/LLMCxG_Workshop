{
  "nbformat": 4,
  "nbformat_minor": 0,
  "metadata": {
    "colab": {
      "provenance": [],
      "authorship_tag": "ABX9TyOOBAPMBEsKbh5oz2MbhWWu",
      "include_colab_link": true
    },
    "kernelspec": {
      "name": "python3",
      "display_name": "Python 3"
    },
    "language_info": {
      "name": "python"
    }
  },
  "cells": [
    {
      "cell_type": "markdown",
      "metadata": {
        "id": "view-in-github",
        "colab_type": "text"
      },
      "source": [
        "<a href=\"https://colab.research.google.com/github/melissatorgbi/LLMCxG_Workshop/blob/main/notebooks/LLMCxG_Notebook_3.ipynb\" target=\"_parent\"><img src=\"https://colab.research.google.com/assets/colab-badge.svg\" alt=\"Open In Colab\"/></a>"
      ]
    },
    {
      "cell_type": "markdown",
      "source": [
        "# Introduction"
      ],
      "metadata": {
        "id": "AhbgQGmHkrDU"
      }
    },
    {
      "cell_type": "markdown",
      "source": [
        "overview/description"
      ],
      "metadata": {
        "id": "qXyt57ZNk4wU"
      }
    },
    {
      "cell_type": "markdown",
      "source": [
        "## Imports"
      ],
      "metadata": {
        "id": "ZeN4nj7_j2WX"
      }
    },
    {
      "cell_type": "code",
      "source": [
        "!git clone https://github.com/melissatorgbi/Assessing-Language-Comprehension-in-Large-Language-Models-Using-Construction-Grammar.git\n",
        "%cd Assessing-Language-Comprehension-in-Large-Language-Models-Using-Construction-Grammar"
      ],
      "metadata": {
        "id": "O6a4528grpii"
      },
      "execution_count": null,
      "outputs": []
    },
    {
      "cell_type": "code",
      "source": [
        "import pandas as pd\n",
        "import csv\n",
        "import os\n",
        "from tqdm import tqdm\n",
        "\n",
        "from experimentSetup import runTests_NLI\n",
        "from prompts import CxNLI_prompts"
      ],
      "metadata": {
        "id": "XPJdsKLwj8E0"
      },
      "execution_count": 98,
      "outputs": []
    },
    {
      "cell_type": "markdown",
      "source": [
        "# Set-up"
      ],
      "metadata": {
        "id": "x5PcLi2Ljm1C"
      }
    },
    {
      "cell_type": "code",
      "source": [
        "OPENAI_API_KEY = #enter your api key here"
      ],
      "metadata": {
        "id": "RVt8sUM3ZmZ3"
      },
      "execution_count": 58,
      "outputs": []
    },
    {
      "cell_type": "code",
      "source": [
        "with open('openai_api_keys.env', 'w') as writefile:\n",
        "    writefile.write(OPENAI_API_KEY+\", \")"
      ],
      "metadata": {
        "id": "pXWe2HO0ji4d"
      },
      "execution_count": 59,
      "outputs": []
    },
    {
      "cell_type": "code",
      "source": [
        "def get_all( tester, model, prompt_number, experiment, temperature) :\n",
        "\n",
        "        schematicity = { 'let-alone'            : 'substantive',\n",
        "                         'way-manner'           : 'partial',\n",
        "                         'resultative'          : 'schematic',\n",
        "                         'conative'             : 'partial',\n",
        "                         'intransitive motion'  : 'schematic',\n",
        "                         'intransitive-motion'  : 'schematic',\n",
        "                         'caused-motion'        : 'schematic',\n",
        "                         'causative - with'     : 'partial',\n",
        "                         'causative-with-CxN'   : 'partial',\n",
        "                         'ditransitive'         : 'schematic',\n",
        "                         'ditransitive-CxN'     : 'schematic',\n",
        "                         'comparative-correlative':'comparative-correlative',\n",
        "                        }\n",
        "\n",
        "\n",
        "        results_by_row = [ [ 'CxG', 'schematicity', 'Premise', 'Hypothesis', 'Gold', 'Prediction' ] ]\n",
        "        for row in tqdm(tester.test_data):\n",
        "\n",
        "          if row[0] == \"let-alone\":\n",
        "\n",
        "            this_schematicity = schematicity[ row[0] ]\n",
        "\n",
        "            prompt = tester._generate_prompt( prompt_number, row[0] )\n",
        "            prompt = prompt.format( row[1], row[2] )\n",
        "\n",
        "            response = tester._gpt_get( model, prompt , temperature)\n",
        "\n",
        "            results_by_row.append( [ row[0], this_schematicity, row[1], row[2], row[3], response ] )\n",
        "\n",
        "        outfile = os.path.join( tester.output_location, \"output_{}_{}_prompt{}.csv\".format( model, experiment, prompt_number ) )\n",
        "        with open( outfile, 'w' ) as csvoutfile :\n",
        "            writer = csv.writer( csvoutfile )\n",
        "            writer.writerows( results_by_row )\n",
        "\n",
        "            print( \"Wrote \" + outfile )\n",
        "\n",
        "        return"
      ],
      "metadata": {
        "id": "a77qSnrfzvAS"
      },
      "execution_count": 103,
      "outputs": []
    },
    {
      "cell_type": "markdown",
      "source": [
        "# Data"
      ],
      "metadata": {
        "id": "yIZZoZOhj5rC"
      }
    },
    {
      "cell_type": "code",
      "source": [
        "cnli_df = pd.read_csv(\"Assessing-Language-Comprehension-in-Large-Language-Models-Using-Construction-Grammar/data/constructional_NLI/CxNLI_3_examples_test.tsv\", sep='\\t')\n",
        "cnli_df.head(10)"
      ],
      "metadata": {
        "colab": {
          "base_uri": "https://localhost:8080/",
          "height": 363
        },
        "id": "z8M9PSAKwc3p",
        "outputId": "16d4c0d5-6fe7-4ab2-d44a-6422269acb37"
      },
      "execution_count": 26,
      "outputs": [
        {
          "output_type": "execute_result",
          "data": {
            "text/plain": [
              "    CxN Type  Number       P/H/R  \\\n",
              "0  let-alone       4     premise   \n",
              "1        NaN       4  hypothesis   \n",
              "2        NaN       4    relation   \n",
              "3  let-alone       5     premise   \n",
              "4        NaN       5  hypothesis   \n",
              "5        NaN       5    relation   \n",
              "6  let-alone       6     premise   \n",
              "7        NaN       6  hypothesis   \n",
              "8        NaN       6    relation   \n",
              "9  let-alone       7     premise   \n",
              "\n",
              "         Annotation Targets - Gold Standard Relation  \n",
              "0  It is difficult enough for an individual to be...  \n",
              "1  If an individual is consistent, a society migh...  \n",
              "2                                        1 (neutral)  \n",
              "3  It is difficult enough for an individual to be...  \n",
              "4  It is easier for a society to be consistent th...  \n",
              "5                                  2 (contradiction)  \n",
              "6  It is difficult enough for an individual to be...  \n",
              "7  It is easier for an individual to be consisten...  \n",
              "8                                     0 (entailment)  \n",
              "9  I would be distressed to hear of any ladies re...  "
            ],
            "text/html": [
              "\n",
              "  <div id=\"df-dcda868c-5818-4495-bcdf-1e606bd981ff\" class=\"colab-df-container\">\n",
              "    <div>\n",
              "<style scoped>\n",
              "    .dataframe tbody tr th:only-of-type {\n",
              "        vertical-align: middle;\n",
              "    }\n",
              "\n",
              "    .dataframe tbody tr th {\n",
              "        vertical-align: top;\n",
              "    }\n",
              "\n",
              "    .dataframe thead th {\n",
              "        text-align: right;\n",
              "    }\n",
              "</style>\n",
              "<table border=\"1\" class=\"dataframe\">\n",
              "  <thead>\n",
              "    <tr style=\"text-align: right;\">\n",
              "      <th></th>\n",
              "      <th>CxN Type</th>\n",
              "      <th>Number</th>\n",
              "      <th>P/H/R</th>\n",
              "      <th>Annotation Targets - Gold Standard Relation</th>\n",
              "    </tr>\n",
              "  </thead>\n",
              "  <tbody>\n",
              "    <tr>\n",
              "      <th>0</th>\n",
              "      <td>let-alone</td>\n",
              "      <td>4</td>\n",
              "      <td>premise</td>\n",
              "      <td>It is difficult enough for an individual to be...</td>\n",
              "    </tr>\n",
              "    <tr>\n",
              "      <th>1</th>\n",
              "      <td>NaN</td>\n",
              "      <td>4</td>\n",
              "      <td>hypothesis</td>\n",
              "      <td>If an individual is consistent, a society migh...</td>\n",
              "    </tr>\n",
              "    <tr>\n",
              "      <th>2</th>\n",
              "      <td>NaN</td>\n",
              "      <td>4</td>\n",
              "      <td>relation</td>\n",
              "      <td>1 (neutral)</td>\n",
              "    </tr>\n",
              "    <tr>\n",
              "      <th>3</th>\n",
              "      <td>let-alone</td>\n",
              "      <td>5</td>\n",
              "      <td>premise</td>\n",
              "      <td>It is difficult enough for an individual to be...</td>\n",
              "    </tr>\n",
              "    <tr>\n",
              "      <th>4</th>\n",
              "      <td>NaN</td>\n",
              "      <td>5</td>\n",
              "      <td>hypothesis</td>\n",
              "      <td>It is easier for a society to be consistent th...</td>\n",
              "    </tr>\n",
              "    <tr>\n",
              "      <th>5</th>\n",
              "      <td>NaN</td>\n",
              "      <td>5</td>\n",
              "      <td>relation</td>\n",
              "      <td>2 (contradiction)</td>\n",
              "    </tr>\n",
              "    <tr>\n",
              "      <th>6</th>\n",
              "      <td>let-alone</td>\n",
              "      <td>6</td>\n",
              "      <td>premise</td>\n",
              "      <td>It is difficult enough for an individual to be...</td>\n",
              "    </tr>\n",
              "    <tr>\n",
              "      <th>7</th>\n",
              "      <td>NaN</td>\n",
              "      <td>6</td>\n",
              "      <td>hypothesis</td>\n",
              "      <td>It is easier for an individual to be consisten...</td>\n",
              "    </tr>\n",
              "    <tr>\n",
              "      <th>8</th>\n",
              "      <td>NaN</td>\n",
              "      <td>6</td>\n",
              "      <td>relation</td>\n",
              "      <td>0 (entailment)</td>\n",
              "    </tr>\n",
              "    <tr>\n",
              "      <th>9</th>\n",
              "      <td>let-alone</td>\n",
              "      <td>7</td>\n",
              "      <td>premise</td>\n",
              "      <td>I would be distressed to hear of any ladies re...</td>\n",
              "    </tr>\n",
              "  </tbody>\n",
              "</table>\n",
              "</div>\n",
              "    <div class=\"colab-df-buttons\">\n",
              "\n",
              "  <div class=\"colab-df-container\">\n",
              "    <button class=\"colab-df-convert\" onclick=\"convertToInteractive('df-dcda868c-5818-4495-bcdf-1e606bd981ff')\"\n",
              "            title=\"Convert this dataframe to an interactive table.\"\n",
              "            style=\"display:none;\">\n",
              "\n",
              "  <svg xmlns=\"http://www.w3.org/2000/svg\" height=\"24px\" viewBox=\"0 -960 960 960\">\n",
              "    <path d=\"M120-120v-720h720v720H120Zm60-500h600v-160H180v160Zm220 220h160v-160H400v160Zm0 220h160v-160H400v160ZM180-400h160v-160H180v160Zm440 0h160v-160H620v160ZM180-180h160v-160H180v160Zm440 0h160v-160H620v160Z\"/>\n",
              "  </svg>\n",
              "    </button>\n",
              "\n",
              "  <style>\n",
              "    .colab-df-container {\n",
              "      display:flex;\n",
              "      gap: 12px;\n",
              "    }\n",
              "\n",
              "    .colab-df-convert {\n",
              "      background-color: #E8F0FE;\n",
              "      border: none;\n",
              "      border-radius: 50%;\n",
              "      cursor: pointer;\n",
              "      display: none;\n",
              "      fill: #1967D2;\n",
              "      height: 32px;\n",
              "      padding: 0 0 0 0;\n",
              "      width: 32px;\n",
              "    }\n",
              "\n",
              "    .colab-df-convert:hover {\n",
              "      background-color: #E2EBFA;\n",
              "      box-shadow: 0px 1px 2px rgba(60, 64, 67, 0.3), 0px 1px 3px 1px rgba(60, 64, 67, 0.15);\n",
              "      fill: #174EA6;\n",
              "    }\n",
              "\n",
              "    .colab-df-buttons div {\n",
              "      margin-bottom: 4px;\n",
              "    }\n",
              "\n",
              "    [theme=dark] .colab-df-convert {\n",
              "      background-color: #3B4455;\n",
              "      fill: #D2E3FC;\n",
              "    }\n",
              "\n",
              "    [theme=dark] .colab-df-convert:hover {\n",
              "      background-color: #434B5C;\n",
              "      box-shadow: 0px 1px 3px 1px rgba(0, 0, 0, 0.15);\n",
              "      filter: drop-shadow(0px 1px 2px rgba(0, 0, 0, 0.3));\n",
              "      fill: #FFFFFF;\n",
              "    }\n",
              "  </style>\n",
              "\n",
              "    <script>\n",
              "      const buttonEl =\n",
              "        document.querySelector('#df-dcda868c-5818-4495-bcdf-1e606bd981ff button.colab-df-convert');\n",
              "      buttonEl.style.display =\n",
              "        google.colab.kernel.accessAllowed ? 'block' : 'none';\n",
              "\n",
              "      async function convertToInteractive(key) {\n",
              "        const element = document.querySelector('#df-dcda868c-5818-4495-bcdf-1e606bd981ff');\n",
              "        const dataTable =\n",
              "          await google.colab.kernel.invokeFunction('convertToInteractive',\n",
              "                                                    [key], {});\n",
              "        if (!dataTable) return;\n",
              "\n",
              "        const docLinkHtml = 'Like what you see? Visit the ' +\n",
              "          '<a target=\"_blank\" href=https://colab.research.google.com/notebooks/data_table.ipynb>data table notebook</a>'\n",
              "          + ' to learn more about interactive tables.';\n",
              "        element.innerHTML = '';\n",
              "        dataTable['output_type'] = 'display_data';\n",
              "        await google.colab.output.renderOutput(dataTable, element);\n",
              "        const docLink = document.createElement('div');\n",
              "        docLink.innerHTML = docLinkHtml;\n",
              "        element.appendChild(docLink);\n",
              "      }\n",
              "    </script>\n",
              "  </div>\n",
              "\n",
              "\n",
              "    <div id=\"df-0d3ac954-cd0a-4f57-bf0b-d2dbb20be1ae\">\n",
              "      <button class=\"colab-df-quickchart\" onclick=\"quickchart('df-0d3ac954-cd0a-4f57-bf0b-d2dbb20be1ae')\"\n",
              "                title=\"Suggest charts\"\n",
              "                style=\"display:none;\">\n",
              "\n",
              "<svg xmlns=\"http://www.w3.org/2000/svg\" height=\"24px\"viewBox=\"0 0 24 24\"\n",
              "     width=\"24px\">\n",
              "    <g>\n",
              "        <path d=\"M19 3H5c-1.1 0-2 .9-2 2v14c0 1.1.9 2 2 2h14c1.1 0 2-.9 2-2V5c0-1.1-.9-2-2-2zM9 17H7v-7h2v7zm4 0h-2V7h2v10zm4 0h-2v-4h2v4z\"/>\n",
              "    </g>\n",
              "</svg>\n",
              "      </button>\n",
              "\n",
              "<style>\n",
              "  .colab-df-quickchart {\n",
              "      --bg-color: #E8F0FE;\n",
              "      --fill-color: #1967D2;\n",
              "      --hover-bg-color: #E2EBFA;\n",
              "      --hover-fill-color: #174EA6;\n",
              "      --disabled-fill-color: #AAA;\n",
              "      --disabled-bg-color: #DDD;\n",
              "  }\n",
              "\n",
              "  [theme=dark] .colab-df-quickchart {\n",
              "      --bg-color: #3B4455;\n",
              "      --fill-color: #D2E3FC;\n",
              "      --hover-bg-color: #434B5C;\n",
              "      --hover-fill-color: #FFFFFF;\n",
              "      --disabled-bg-color: #3B4455;\n",
              "      --disabled-fill-color: #666;\n",
              "  }\n",
              "\n",
              "  .colab-df-quickchart {\n",
              "    background-color: var(--bg-color);\n",
              "    border: none;\n",
              "    border-radius: 50%;\n",
              "    cursor: pointer;\n",
              "    display: none;\n",
              "    fill: var(--fill-color);\n",
              "    height: 32px;\n",
              "    padding: 0;\n",
              "    width: 32px;\n",
              "  }\n",
              "\n",
              "  .colab-df-quickchart:hover {\n",
              "    background-color: var(--hover-bg-color);\n",
              "    box-shadow: 0 1px 2px rgba(60, 64, 67, 0.3), 0 1px 3px 1px rgba(60, 64, 67, 0.15);\n",
              "    fill: var(--button-hover-fill-color);\n",
              "  }\n",
              "\n",
              "  .colab-df-quickchart-complete:disabled,\n",
              "  .colab-df-quickchart-complete:disabled:hover {\n",
              "    background-color: var(--disabled-bg-color);\n",
              "    fill: var(--disabled-fill-color);\n",
              "    box-shadow: none;\n",
              "  }\n",
              "\n",
              "  .colab-df-spinner {\n",
              "    border: 2px solid var(--fill-color);\n",
              "    border-color: transparent;\n",
              "    border-bottom-color: var(--fill-color);\n",
              "    animation:\n",
              "      spin 1s steps(1) infinite;\n",
              "  }\n",
              "\n",
              "  @keyframes spin {\n",
              "    0% {\n",
              "      border-color: transparent;\n",
              "      border-bottom-color: var(--fill-color);\n",
              "      border-left-color: var(--fill-color);\n",
              "    }\n",
              "    20% {\n",
              "      border-color: transparent;\n",
              "      border-left-color: var(--fill-color);\n",
              "      border-top-color: var(--fill-color);\n",
              "    }\n",
              "    30% {\n",
              "      border-color: transparent;\n",
              "      border-left-color: var(--fill-color);\n",
              "      border-top-color: var(--fill-color);\n",
              "      border-right-color: var(--fill-color);\n",
              "    }\n",
              "    40% {\n",
              "      border-color: transparent;\n",
              "      border-right-color: var(--fill-color);\n",
              "      border-top-color: var(--fill-color);\n",
              "    }\n",
              "    60% {\n",
              "      border-color: transparent;\n",
              "      border-right-color: var(--fill-color);\n",
              "    }\n",
              "    80% {\n",
              "      border-color: transparent;\n",
              "      border-right-color: var(--fill-color);\n",
              "      border-bottom-color: var(--fill-color);\n",
              "    }\n",
              "    90% {\n",
              "      border-color: transparent;\n",
              "      border-bottom-color: var(--fill-color);\n",
              "    }\n",
              "  }\n",
              "</style>\n",
              "\n",
              "      <script>\n",
              "        async function quickchart(key) {\n",
              "          const quickchartButtonEl =\n",
              "            document.querySelector('#' + key + ' button');\n",
              "          quickchartButtonEl.disabled = true;  // To prevent multiple clicks.\n",
              "          quickchartButtonEl.classList.add('colab-df-spinner');\n",
              "          try {\n",
              "            const charts = await google.colab.kernel.invokeFunction(\n",
              "                'suggestCharts', [key], {});\n",
              "          } catch (error) {\n",
              "            console.error('Error during call to suggestCharts:', error);\n",
              "          }\n",
              "          quickchartButtonEl.classList.remove('colab-df-spinner');\n",
              "          quickchartButtonEl.classList.add('colab-df-quickchart-complete');\n",
              "        }\n",
              "        (() => {\n",
              "          let quickchartButtonEl =\n",
              "            document.querySelector('#df-0d3ac954-cd0a-4f57-bf0b-d2dbb20be1ae button');\n",
              "          quickchartButtonEl.style.display =\n",
              "            google.colab.kernel.accessAllowed ? 'block' : 'none';\n",
              "        })();\n",
              "      </script>\n",
              "    </div>\n",
              "\n",
              "    </div>\n",
              "  </div>\n"
            ],
            "application/vnd.google.colaboratory.intrinsic+json": {
              "type": "dataframe",
              "variable_name": "cnli_df",
              "summary": "{\n  \"name\": \"cnli_df\",\n  \"rows\": 1170,\n  \"fields\": [\n    {\n      \"column\": \"CxN Type\",\n      \"properties\": {\n        \"dtype\": \"category\",\n        \"num_unique_values\": 8,\n        \"samples\": [\n          \"way-manner\",\n          \"caused-motion\",\n          \"let-alone\"\n        ],\n        \"semantic_type\": \"\",\n        \"description\": \"\"\n      }\n    },\n    {\n      \"column\": \"Number\",\n      \"properties\": {\n        \"dtype\": \"number\",\n        \"std\": 131,\n        \"min\": 4,\n        \"max\": 474,\n        \"num_unique_values\": 390,\n        \"samples\": [\n          13,\n          61,\n          46\n        ],\n        \"semantic_type\": \"\",\n        \"description\": \"\"\n      }\n    },\n    {\n      \"column\": \"P/H/R\",\n      \"properties\": {\n        \"dtype\": \"category\",\n        \"num_unique_values\": 3,\n        \"samples\": [\n          \"premise\",\n          \"hypothesis\",\n          \"relation\"\n        ],\n        \"semantic_type\": \"\",\n        \"description\": \"\"\n      }\n    },\n    {\n      \"column\": \"Annotation Targets - Gold Standard Relation\",\n      \"properties\": {\n        \"dtype\": \"category\",\n        \"num_unique_values\": 525,\n        \"samples\": [\n          \"We DROVE all the way to the next city.\",\n          \"Pope was FLOWN to the U.S. military base in Germany, where he stayed for weeks.\",\n          \"0 (entailment)\"\n        ],\n        \"semantic_type\": \"\",\n        \"description\": \"\"\n      }\n    }\n  ]\n}"
            }
          },
          "metadata": {},
          "execution_count": 26
        }
      ]
    },
    {
      "cell_type": "code",
      "source": [
        "cnli_df.columns"
      ],
      "metadata": {
        "colab": {
          "base_uri": "https://localhost:8080/"
        },
        "id": "Uu0ql32Ewp3o",
        "outputId": "81c2c7fc-b7e4-40a5-990f-ba62ba816197"
      },
      "execution_count": 20,
      "outputs": [
        {
          "output_type": "execute_result",
          "data": {
            "text/plain": [
              "Index(['CxN Type', 'Number', 'P/H/R',\n",
              "       'Annotation Targets - Gold Standard Relation'],\n",
              "      dtype='object')"
            ]
          },
          "metadata": {},
          "execution_count": 20
        }
      ]
    },
    {
      "cell_type": "code",
      "source": [
        "cnli_df['CxN Type'].unique()"
      ],
      "metadata": {
        "colab": {
          "base_uri": "https://localhost:8080/"
        },
        "id": "9wtoBJ_FlgR3",
        "outputId": "144fe4ca-0e47-4235-9369-06b10f2da191"
      },
      "execution_count": 17,
      "outputs": [
        {
          "output_type": "execute_result",
          "data": {
            "text/plain": [
              "array(['let-alone', nan, 'way-manner', 'resultative', 'conative',\n",
              "       'intransitive-motion', 'caused-motion', 'causative-with-CxN',\n",
              "       'comparative-correlative'], dtype=object)"
            ]
          },
          "metadata": {},
          "execution_count": 17
        }
      ]
    },
    {
      "cell_type": "code",
      "source": [
        "print(\"construction:\", cnli_df['CxN Type'][0])\n",
        "for i in range (3):\n",
        "  print(\"\\npremise:\",cnli_df['Annotation Targets - Gold Standard Relation'][i*3])\n",
        "  print(\"hypothesis:\",cnli_df['Annotation Targets - Gold Standard Relation'][i*3+1])\n",
        "  print(\"relation:\",cnli_df['Annotation Targets - Gold Standard Relation'][i*3+2])"
      ],
      "metadata": {
        "colab": {
          "base_uri": "https://localhost:8080/"
        },
        "id": "9dRDAVUumDKq",
        "outputId": "42d23f34-3797-4a08-818e-2e9d1dbfd9fb"
      },
      "execution_count": 31,
      "outputs": [
        {
          "output_type": "stream",
          "name": "stdout",
          "text": [
            "construction: let-alone\n",
            "\n",
            "premise: It is difficult enough for an individual to be consistent let alone a society.\n",
            "hypothesis: If an individual is consistent, a society might also be consistent.\n",
            "relation: 1 (neutral)\n",
            "\n",
            "premise: It is difficult enough for an individual to be consistent let alone a society.\n",
            "hypothesis: It is easier for a society to be consistent than an individual.\n",
            "relation: 2 (contradiction)\n",
            "\n",
            "premise: It is difficult enough for an individual to be consistent let alone a society.\n",
            "hypothesis: It is easier for an individual to be consistent than a society.\n",
            "relation: 0 (entailment)\n"
          ]
        }
      ]
    },
    {
      "cell_type": "markdown",
      "source": [
        "# Base Prompts"
      ],
      "metadata": {
        "id": "TF7dhBdVlTtB"
      }
    },
    {
      "cell_type": "code",
      "source": [
        "print(CxNLI_prompts.prompts[0])"
      ],
      "metadata": {
        "colab": {
          "base_uri": "https://localhost:8080/"
        },
        "id": "gVvwrJUarSO3",
        "outputId": "d7db9831-51ce-4973-b98f-3a27f86c3f5e"
      },
      "execution_count": 47,
      "outputs": [
        {
          "output_type": "stream",
          "name": "stdout",
          "text": [
            "You are the world's best annotator. Your task is to read sentences from a dataset, presented as the Premise in a set of triples for the Natural Language Inference (NLI) task. Also known as Recognizing Textual Entailment (RTE), NLI involves determining the inference relation between two short, ordered texts: entailment, contradiction, or neutral. Next, you will identify the Relation between the Premise and the Hypothesis, which indicates the type of entailment between the two sentences. We use numerical coding, also listed in your annotation spreadsheet as a reminder:\n",
            "0 – entailment – The hypothesis must be true given the premise\n",
            "1 – neutral – The hypothesis may or may not be true given the premise\n",
            "2 – contradiction – The hypothesis must not be true given the premise\n",
            "Output a single numerical value between 0, 1, or 2, corresponding to the associated relation. Output a single number only and nothing else.\n",
            "\n"
          ]
        }
      ]
    },
    {
      "cell_type": "markdown",
      "source": [
        "# Experiment Set up"
      ],
      "metadata": {
        "id": "N7TmF9GToJBD"
      }
    },
    {
      "cell_type": "code",
      "source": [
        "openai_completion_style = \"ChatCompletion\"\n",
        "api_path = \"openai_api_keys.env\"\n",
        "test_data = \"data/constructional_NLI/CxNLI_3_examples_test.tsv\" #NLI example\n",
        "train_data = \"data/constructional_NLI/CxNLI_3_examples_train.csv\" #Not neccessary if running a reasoning experiment or zero shot NLI, can leave as \"\"\n",
        "train_data_version = \"zero\"\n",
        "temperature = 0 #Change the temperature from 0 to 1 for o1 model\n",
        "model = \"gpt-4o-mini\" #Other options inlcude, \"o1-preview-2024-09-12\" and \"gpt-3.5-turbo\"\n",
        "prompt_number = 2 #Prompts can be found in prompts/CxNLI_prompts.py or prompts/CxReasoning_prompts.py for NLI and reasoning tasks respectively\n",
        "experiment_name = \"CxNLI\"\n",
        "\n",
        "!mkdir output\n",
        "output_directory = \"output\""
      ],
      "metadata": {
        "id": "wwgMAs58oIcm"
      },
      "execution_count": 101,
      "outputs": []
    },
    {
      "cell_type": "code",
      "source": [
        "tester = runTests_NLI( test_data, train_data, output_directory, openai_completion_style, api_path, train_data_version)"
      ],
      "metadata": {
        "id": "kJW9TvPzoWV4"
      },
      "execution_count": 64,
      "outputs": []
    },
    {
      "cell_type": "code",
      "source": [
        "print(tester.test_data)"
      ],
      "metadata": {
        "colab": {
          "base_uri": "https://localhost:8080/"
        },
        "id": "CVsvw5Tvx2he",
        "outputId": "2f17f0bc-983c-4133-df41-623327093b5b"
      },
      "execution_count": 75,
      "outputs": [
        {
          "output_type": "stream",
          "name": "stdout",
          "text": [
            "[['let-alone', 'It is difficult enough for an individual to be consistent let alone a society.', 'If an individual is consistent, a society might also be consistent.', 1], ['let-alone', 'It is difficult enough for an individual to be consistent let alone a society.', 'It is easier for a society to be consistent than an individual.', 2], ['let-alone', 'It is difficult enough for an individual to be consistent let alone a society.', 'It is easier for an individual to be consistent than a society.', 0], ['let-alone', 'I would be distressed to hear of any ladies reading it, let alone a girl of your tender years and experience.', 'If I would be distressed of a girl of your tender years reading it, I would also be distressed of any ladies reading it.', 1], ['let-alone', 'I would be distressed to hear of any ladies reading it, let alone a girl of your tender years and experience.', 'I would be equally distressed to hear of any ladies reading it as I would be to hear of a girl of your tender years and experience reading it.', 2], ['let-alone', 'I would be distressed to hear of any ladies reading it, let alone a girl of your tender years and experience.', 'I would be more distressed to hear of a girl of your tender years and experience reading it than I would be to hear of any ladies reading it.', 0], ['let-alone', 'None of these arguments is notably strong, let alone conclusive.', 'If one of these arguments were notably strong, it would also be conclusive.', 1], ['let-alone', 'None of these arguments is notably strong, let alone conclusive.', 'A conclusive argument is weaker than a notably strong argument.', 2], ['let-alone', 'None of these arguments is notably strong, let alone conclusive.', 'A conclusive argument is even stronger than a notably strong argument.', 0], ['let-alone', 'Even so, such vague promises are no grounds for satisfaction, let alone complacency.', 'If a promise is grounds for satisfaction, it is also grounds for complacency.', 1], ['let-alone', 'Even so, such vague promises are no grounds for satisfaction, let alone complacency.', 'Vague promises that are grounds for complacency are weaker than those that are grounds for satisfaction.', 2], ['let-alone', 'Even so, such vague promises are no grounds for satisfaction, let alone complacency.', 'Promises that are grounds for complacency must be stronger than those that are grounds for satisfaction alone.', 0], ['let-alone', 'Mr Brown claimed that the Government had failed to face the failures of the present, let alone the challenges of the future.', 'If the Government faces the failures of the present they also face the challenges of the future.', 1], ['let-alone', 'Mr Brown claimed that the Government had failed to face the failures of the present, let alone the challenges of the future.', 'Facing the failures of the present is more difficult for a government than facing the challenges of the future', 2], ['let-alone', 'Mr Brown claimed that the Government had failed to face the failures of the present, let alone the challenges of the future.', 'Facing the failures of the present is easier for a government than facing the challenges of the future', 0], ['let-alone', \"It's unsurprising that such an attitude failed to produce competent screenwriters, let alone exciting ones.\", 'If an attitude failed to produce exciting screenwriters, it would also fail to produce compentent ones.', 1], ['let-alone', \"It's unsurprising that such an attitude failed to produce competent screenwriters, let alone exciting ones.\", 'An attitude that produces competent screenwriters is more surprising than an attitude that produces exciting screenwriters', 2], ['let-alone', \"It's unsurprising that such an attitude failed to produce competent screenwriters, let alone exciting ones.\", 'An attitude that produces exciting screenwriters can also produce competent ones.', 0], ['let-alone', 'How many modern Prime Ministers could recall such exploits in their past, let alone dare to boast about them?', 'Prime ministers that can recall such exploits in their past also dare to boast about them.', 1], ['let-alone', 'How many modern Prime Ministers could recall such exploits in their past, let alone dare to boast about them?', 'It is more likely for modern Prime Ministers to dare to boast about such exploits than it is that they could recall them.', 2], ['let-alone', 'How many modern Prime Ministers could recall such exploits in their past, let alone dare to boast about them?', 'It is more likely that a modern Prime Minister could recall such exploits in their past than it is likely for them to boast about those exploits.', 0], ['let-alone', \"Beecher's reputation as a preacher, let alone as a Man of God, was not universally accepted.\", 'If Beecher had a reputation as a preacher, he also has a reputation as a Man of God.', 1], ['let-alone', \"Beecher's reputation as a preacher, let alone as a Man of God, was not universally accepted.\", \"Beecher's reputation as a Man of God was easier to accept than his reputation as a preacher.\", 2], ['let-alone', \"Beecher's reputation as a preacher, let alone as a Man of God, was not universally accepted.\", \"Beecher's reputation as a preacher was easier to accept than his reputation as a Man of God.\", 0], ['way-manner', 'As she felt something on her way forward, suddenly a knight on horseback galloped past her.', 'She was moving forward when a knight on horseback almost ran her over.', 1], ['way-manner', 'As she felt her way forward, suddenly a knight on horseback galloped past her.', 'She moved forward without feeling.', 2], ['way-manner', 'As she felt her way forward, suddenly a knight on horseback galloped past her.', 'As she was moving forward, a knight on horseback went past her.', 0], ['way-manner', \"If this were to happen, would it not be unfair that other prisoners that do not have the means to pay and have committed 'lesser' crimes have to serve longer than those that can 'BUY' their way out of jail, so to speak?\", \"If this were to happen, would it not be unfair that other prisoners that do not have the means to pay and have committed 'lesser' crimes have to serve longer than those that can buy something on their way out of jail?\", 1], ['way-manner', \"If this were to happen, would it not be unfair that other prisoners that do not have the means to pay and have committed 'lesser' crimes have to serve longer than those that can 'BUY' their way out of jail, so to speak?\", \"It would be unfair that other prisoners that do not have the means to pay and have committed 'lesser' crimes have to serve longer than those that can get out of jail without buying.\", 2], ['way-manner', \"If this were to happen, would it not be unfair that other prisoners that do not have the means to pay and have committed 'lesser' crimes have to serve longer than those that can 'BUY' their way out of jail, so to speak?\", 'It would be quite unfair for other prisoners with less financial status to have to serve longer sentences than those that can get out of their sentences through buying.', 0], ['way-manner', 'As you continue , you can see the path meandering its way up Ben Nevis in long zig-zags to the right of the Red Burn.', 'The path is difficult to traverse as it meanders on its way up Ben Nevis in long zig-zags to the right of the Red Burn.', 1], ['way-manner', 'As you continue , you can see the path meandering its way up Ben Nevis in long zig-zags to the right of the Red Burn.', 'It is not in a meandering way that the path travels up Ben Nevis to the right of the Red Burn.', 2], ['way-manner', 'As you continue , you can see the path meandering its way up Ben Nevis in long zig-zags to the right of the Red Burn.', 'As you continue , you can see the path travel up Ben Nevis in long zig-zags to the right of the Red Burn.', 0], ['way-manner', 'Thus a miner who slipped from the worn and greasy rungs was liable to fall a long way and a dropped tool would clatter its way down to cause death or injury to some fellow below.', 'A miner has tools that are valuable and costly to replace if dropped from high above while climbing.', 1], ['way-manner', 'Thus a miner who slipped from the worn and greasy rungs was liable to fall a long way and a dropped tool could clatter its way down to cause death or injury to some fellow below.', 'A dropped tool would fall down without clattering to cause death or injury to some fellow below.', 2], ['way-manner', 'Thus a miner who slipped from the worn and greasy rungs was liable to fall a long way and a dropped tool could clatter its way down to cause death or injury to some fellow below.', 'A dropped tool would fall in a noisy manner to cause death or injury to some fellow below.', 0], ['way-manner', 'She stared from one to the other, feeling apprehension shiver its cold way along her spine.', 'She stared from one to the other, feeling apprehension at their suggestion that she go out without a coat.', 1], ['way-manner', 'She stared from one to the other, feeling apprehension shiver its cold way along her spine.', 'She stared from one to the other, feeling apphrension move down her spine warmly.', 2], ['way-manner', 'She stared from one to the other, feeling apprehension shiver its cold way along her spine.', 'She stared from one to the other, feeling apprehension move along her spine through shivering.', 0], ['way-manner', 'A middle-aged man eased his way into the room.', 'A middle-aged man eased something on his way into the room.', 1], ['way-manner', 'A middle-aged man eased his way into the room.', 'A middle-aged man entered the room with difficulty.', 2], ['way-manner', 'A middle-aged man eased his way into the room.', 'A middle-aged man entered the room without great difficulty.', 0], ['way-manner', 'I yawned my way back to the Narrow Neck.', 'I yawned three times on my journey to the Narrow Neck.', 1], ['way-manner', 'I yawned my way back to the Narrow Neck.', 'I traveled back to Narrow Neck without yawning.', 2], ['way-manner', 'I yawned my way back to the Narrow Neck.', 'I yawned at least once on my journey back to the Narrow Neck.', 0], ['way-manner', 'It was an easy matter to buy my way on to the same flight.', 'It was an easy matter to buy something on my way to the same flight.', 1], ['way-manner', 'It was an easy matter to buy my way on to the same flight.', 'I did not get onto the flight through buying.', 2], ['way-manner', 'It was an easy matter to buy my way on to the same flight.', 'It was easy to get onto the same flight through buying.', 0], ['way-manner', \"But Mum just gave them one of her black looks and elbowed her way past the two women and went into Granny's house.\", \"Mum just gave her sisters a mean look for laughing as she elbowed them out of the way into Granny's house.\", 1], ['way-manner', \"But Mum just gave them one of her black looks and elbowed her way past the two women and went into Granny's house.\", \"But Mum just gave them one of her black looks and moved past the two women without making contact with anyone, and went into Granny's house.\", 2], ['way-manner', \"But Mum just gave them one of her black looks and elbowed her way past the two women and went into Granny's house.\", \"Mum moved past the two women by elbowing them and went into Granny's house.\", 0], ['way-manner', 'Constance squeezed her way down the platform looking for the first-class carriages.', 'Constance squeezed something on her way down the platform looking for first-class carriages.', 1], ['way-manner', 'Constance squeezed her way down the platform looking for the first-class carriages.', 'Constance traveled down the platform without squeezing.', 2], ['way-manner', 'Constance squeezed her way down the platform looking for the first-class carriages.', 'Constance traveled down the platform by squeezing.', 0], ['way-manner', 'The practical man thought his way through these apparent obstacles.', 'The practical man thought about something on his way through these apparent obstacles.', 1], ['way-manner', 'The practical man thought his way through these apparent obstacles.', 'The practical man overcame these apparent obstacles by giving them no thought.', 2], ['way-manner', 'The practical man thought his way through these apparent obstacles.', 'The practical man overcame these apparent obstacles by thinking.', 0], ['resultative', 'Passing the cord through the hole , I pulled it tight .', 'The small cord easily fit through the hole.', 1], ['resultative', 'Passing the cord through the hole , I pulled it tight .', 'The cord was completely tight before I pulled it.', 2], ['resultative', 'Passing the cord through the hole , I pulled it tight .', 'I caused the cord to become tight by pulling it.', 0], ['resultative', 'Once I had finished stitching , I washed the sample to remove the glue , and ironed it dry .', 'I quickly dried the sample by ironing it.', 1], ['resultative', 'Once I had finished stitching , I washed the sample to remove the glue , and ironed it dry .', 'The sample was completely dry before I ironed it.', 2], ['resultative', 'Once I had finished stitching , I washed the sample to remove the glue , and ironed it dry .', 'The sample was not completely dry before I ironed it.', 0], ['resultative', 'So , I removed this latch with a Hack saw , and sanded it smooth .', 'I removed the broken latch and smoothed the area.', 1], ['resultative', 'So , I removed this latch with a Hack saw , and sanded it smooth .', 'I did not cause the latch to become smooth by sanding it.', 2], ['resultative', 'So , I removed this latch with a Hack saw , and sanded it smooth .', 'The latch was at not completely smooth before I sanded it.', 0], ['resultative', 'This nice man probably just wanted Mother to KISS him unconscious.', 'This nice man has a mother who will kiss him to the point of unconsciousness.', 1], ['resultative', 'This nice man probably just wanted Mother to KISS him unconscious.', 'The nice man wanted to be unconscious before Mother kissed him.', 2], ['resultative', 'This nice man probably just wanted Mother to KISS him unconscious.', 'He wanted Mother to cause him to become unconscious through kissing.', 0], ['resultative', 'I had BRUSHED my hair very smooth.', 'I had frantically brushed my hair very smooth.', 1], ['resultative', 'I had BRUSHED my hair very smooth.', 'My hair was very smooth before I brushed it.', 2], ['resultative', 'I had BRUSHED my hair very smooth.', 'My brushing caused my hair to become smooth.', 0], ['resultative', 'You KILLED it stone-dead.', 'You killed it stone-dead in cold blood.', 1], ['resultative', 'You KILLED it stone-dead.', 'It was stone-dead before you killed it.', 2], ['resultative', 'You KILLED it stone-dead.', 'It was not stone-dead before you killed it.', 0], ['resultative', 'The tools were WIPED clean.', 'The tools were cleaned with a new cloth.', 1], ['resultative', 'The tools were WIPED clean.', 'The tools becoming clean was not caused by wiping.', 2], ['resultative', 'The tools were WIPED clean.', 'The tools were clean because they were wiped.', 0], ['resultative', 'The river FROZE solid.', 'The river caused itself to freeze.', 1], ['resultative', 'The river FROZE solid.', 'The river was solid before it froze.', 2], ['resultative', 'The river FROZE solid.', 'The river was not solid before it froze.', 0], ['resultative', 'It BROKE apart.', 'It broke into pieces by hand.', 1], ['resultative', 'It BROKE apart.', 'It was apart before it broke.', 2], ['resultative', 'It BROKE apart.', \"It's breaking caused it to come apart.\", 0], ['resultative', 'He HAMMERED the metal flat.', 'He was making a sword by hammering metal.', 1], ['resultative', 'He HAMMERED the metal flat.', 'The hammering did not cause the metal to be flat.', 2], ['resultative', 'He HAMMERED the metal flat.', 'The metal was not flat before the hammering.', 0], ['resultative', 'He CRIED himself asleep.', 'He was saddened by something before bed.', 1], ['resultative', 'He CRIED himself asleep.', 'He was not awake when he started crying.', 2], ['resultative', 'He CRIED himself asleep.', 'He was awake before he cried.', 0], ['resultative', 'He TALKED himself blue in the face.', 'He talked a lot about himself to save face.', 1], ['resultative', 'He TALKED himself blue in the face.', 'His talking did not cause his face to become blue.', 2], ['resultative', 'He TALKED himself blue in the face.', 'His face turned blue from his talking.', 0], ['resultative', 'The dog BARKED the chickens awake.', 'The dog likes to wake the chickens up by barking.', 1], ['resultative', 'The dog BARKED the chickens awake.', 'The dog did not awaken the chickens.', 2], ['resultative', 'The dog BARKED the chickens awake.', \"The chickens woke to the dog's bark.\", 0], ['resultative', 'Terry WIPED the table clean.', 'Terry had cleaned the table to eat.', 1], ['resultative', 'Terry WIPED the table clean.', 'The table was not clean after Terry wiped it.', 2], ['resultative', 'Terry WIPED the table clean.', 'The table was not clean before Terry wiped it.', 0], ['resultative', 'He ATE himself sick.', 'He ate himself sick after drinking a lot.', 1], ['resultative', 'He ATE himself sick.', 'His eating did not cause him to be sick.', 2], ['resultative', 'He ATE himself sick.', 'His sick feeling was caused by eating.', 0], ['resultative', 'She COUGHED herself sick.', 'She coughed too much from choking.', 1], ['resultative', 'She COUGHED herself sick.', 'Her coughing had no effect on her sick feeling.', 2], ['resultative', 'She COUGHED herself sick.', 'She did not feel as sick before coughing.', 0], ['resultative', 'The jackhammer POUNDED us deaf.', 'The jackhammer pounding sometimes reaches 130 decibels.', 1], ['resultative', 'The jackhammer POUNDED us deaf.', 'We were completely deaf before the jackhammer pounded.', 2], ['resultative', 'The jackhammer POUNDED us deaf.', \"Our deafness was a result of the jackhammer's pounding.\", 0], ['resultative', 'Water FILLED the tub half full.', 'Water slowly filled the tub half full.', 1], ['resultative', 'Water FILLED the tub half full.', 'The tub was exactly half full before water filled it.', 2], ['resultative', 'Water FILLED the tub half full.', 'The tub was not half full before water filled it.', 0], ['resultative', 'Harry SHOT Sam dead.', 'Harry hated Sam all of his life.', 1], ['resultative', 'Harry SHOT Sam dead.', 'Sam was dead before Harry shot him.', 2], ['resultative', 'Harry SHOT Sam dead.', 'Sam died from the shot Harry took.', 0], ['resultative', 'Sam TALKED himself hoarse.', 'Sam likes to talk.', 1], ['resultative', 'Sam TALKED himself hoarse.', \"Sam's hoarseness was not caused by talking.\", 2], ['resultative', 'Sam TALKED himself hoarse.', \"Sam's voice was hoarse from talking.\", 0], ['resultative', 'He TICKLED her silly.', 'He frequently tickled her.', 1], ['resultative', 'He TICKLED her silly.', 'Her feeling silly was not caused by tickling.', 2], ['resultative', 'He TICKLED her silly.', 'Her feeling silly was caused by tickling.', 0], ['resultative', 'He PAINTED his house a bright shade of red.', 'His house was previously a darker color.', 1], ['resultative', 'He PAINTED his house a bright shade of red.', 'His house being bright red was not caused by his painting.', 2], ['resultative', 'He PAINTED his house a bright shade of red.', 'He caused his house to be bright red by painting it.', 0], ['conative', 'She tugged at the glass door.', 'She had a sliding glass door to her backyard.', 1], ['conative', 'She tugged at the glass door.', 'She made no motion towards the glass door.', 2], ['conative', 'She tugged at the glass door.', 'The glass door was the target of her tugging.', 0], ['conative', \"He tugged at the puppy's ears.\", 'He had a puppy with long ears.', 1], ['conative', \"He tugged at the puppy's ears.\", \"The puppy's ears were not the target of his tugging.\", 2], ['conative', \"He tugged at the puppy's ears.\", \"He made a tugging motion in the direction of the puppy's ears.\", 0], ['conative', \"I kicked at the door a couple of times, but it didn't budge.\", 'I tried to break my door down to leave my house.', 1], ['conative', \"I kicked at the door a couple of times, but it didn't budge.\", 'The kicked in the opposite direction of the door.', 2], ['conative', \"I kicked at the door a couple of times, but it didn't budge.\", 'The door was the target of my kicks.', 0], ['conative', 'Henry Edison kicked at the tire on the old automobile.', 'Henry Edison had gotten a flat on his old automobile.', 1], ['conative', 'Henry Edison kicked at the tire on the old automobile.', 'Henry Edison made no kicking motion in the direction of the tire.', 2], ['conative', 'Henry Edison kicked at the tire on the old automobile.', 'Henry Edison made at least one kicking motion in the direction of the tire.', 0], ['conative', 'Luke kicked at the chair leg with the toe of his leather half-boot.', 'Luke tested the durability of the chair with his shoe.', 1], ['conative', 'Luke kicked at the chair leg with the toe of his leather half-boot.', 'Luke did not make any kicking motion towards the chair.', 2], ['conative', 'Luke kicked at the chair leg with the toe of his leather half-boot.', \"The chair leg was the target of Luke's kick.\", 0], ['conative', 'I poked at the ice cubes in my drink.', 'I had a straw in my cold drink.', 1], ['conative', 'I poked at the ice cubes in my drink.', 'The ice cubes were not the target of my pokes.', 2], ['conative', 'I poked at the ice cubes in my drink.', 'The ice cubes were the target of my pokes.', 0], ['conative', 'Marco lost his balance and grabbed at the ladder railing.', 'Marco had been up very high on a ladder.', 1], ['conative', 'Marco lost his balance and grabbed at the ladder railing.', 'Marco lost his balance and grabbed away from the ladder railing.', 2], ['conative', 'Marco lost his balance and grabbed at the ladder railing.', 'Marco lost his balance and grabbed in the direction of the ladder railing.', 0], ['conative', 'I pushed at the springs with the palms of my hands.', 'I tried to fix the springs in the toy.', 1], ['conative', 'I pushed at the springs with the palms of my hands.', 'The springs were not the target of my pushing.', 2], ['conative', 'I pushed at the springs with the palms of my hands.', 'The springs were the target of my pushing motion.', 0], ['conative', 'His belly pushed at the buttons of his white and blue Aloha shirt.', 'His belly pushed at the buttons of the hotel elevator through his shirt.', 1], ['conative', 'His belly pushed at the buttons of his white and blue Aloha shirt.', 'His belly pushed in the opposite direction of the buttons of his white and blue Aloha shirt.', 2], ['conative', 'His belly pushed at the buttons of his white and blue Aloha shirt.', 'His belly pushed in the direction of the buttons of his white and blue aloha shirt.', 0], ['conative', 'He pushed at the doorbell.', 'He wanted to see if someone was home.', 1], ['conative', 'He pushed at the doorbell.', 'The doorbell was not the target of his pushing motion.', 2], ['conative', 'He pushed at the doorbell.', 'He made at least one pushing motion in the direction of the doorbell.', 0], ['conative', 'I took a washcloth and wet it, then rubbed at the mark.', 'I had a mark on my body I needed to wash off.', 1], ['conative', 'I took a washcloth and wet it, then rubbed at the mark.', 'I took a washcloth and wet it, then rubbed in the opposite direction of the mark.', 2], ['conative', 'I took a washcloth and wet it, then rubbed at the mark.', 'I took a washcloth and wet it, then made a rubbing motion in the direction of the mark.', 0], ['conative', 'He rubbed at the raw bite wound on his throat.', 'He had other bites on his body.', 1], ['conative', 'He rubbed at the raw bite wound on his throat.', 'He rubbed away from the raw bite wound on his throat.', 2], ['conative', 'He rubbed at the raw bite wound on his throat.', 'The raw bite wound on his throat was in the direction of his rubbing.', 0], ['conative', 'He rubbed at the mark and shook his head.', 'He was annoyed at the mark.', 1], ['conative', 'He rubbed at the mark and shook his head.', 'He rubbed in the opposite direction of his mark and shook his head.', 2], ['conative', 'He rubbed at the mark and shook his head.', 'He rubbed the mark at least once.', 0], ['conative', 'I rubbed at the ache in my neck.', 'I slept on my neck wrong.', 1], ['conative', 'I rubbed at the ache in my neck.', 'My neck was not the target of my rubbing motion.', 2], ['conative', 'I rubbed at the ache in my neck.', 'I made at least one rubbing motion towards my neck.', 0], ['conative', 'Lily plucked at the ribbons on her dress.', 'Lily plucked frantically at her dress.', 1], ['conative', 'Lily plucked at the ribbons on her dress.', 'Lily made a plucking motion in a direction away from the ribbons on her dress.', 2], ['conative', 'Lily plucked at the ribbons on her dress.', \"The ribbons were the target of Lily's plucking motion.\", 0], ['conative', 'She plucked at the sheet with one hand then smoothed it.', 'She was testing the feel of the sheets on the bed.', 1], ['conative', 'She plucked at the sheet with one hand then smoothed it.', 'She did not make any plucking motion in the same direction as the sheet.', 2], ['conative', 'She plucked at the sheet with one hand then smoothed it.', 'She made at least one plucking motion in the direction of the sheet.', 0], ['conative', 'He stabbed at the last part of the equation.', 'The last part of the equation was the most complex.', 1], ['conative', 'He stabbed at the last part of the equation.', 'The last part of the equation was not the target of his stabbing.', 2], ['conative', 'He stabbed at the last part of the equation.', 'The last part of the equation was the target of his stabbing.', 0], ['conative', 'I took the plastic dome from my drink and stabbed at the slush with the straw.', 'I tried to drink the last bits of the slushee with my straw.', 1], ['conative', 'I took the plastic dome from my drink and stabbed at the slush with the straw.', 'I took the plastic dome from my drink and stabbed in the opposite direction of the slush.', 2], ['conative', 'I took the plastic dome from my drink and stabbed at the slush with the straw.', 'I made at least one stabbing movement in the direction of the slush.', 0], ['conative', 'She took the cup and sipped at the coffee, closing her eyes and breathing in the steam.', 'She reluctantly took the cup and sipped the coffee.', 1], ['conative', 'She took the cup and sipped at the coffee, closing her eyes and breathing in the steam.', 'The coffee was not the target of her sipping.', 2], ['conative', 'She took the cup and sipped at the coffee, closing her eyes and breathing in the steam.', 'The coffee was the target of her sipping.', 0], ['conative', 'I sipped at the Heineken.', 'I had a bottle of beer.', 1], ['conative', 'I sipped at the Heineken.', 'The Heineken was not the target of my sipping.', 2], ['conative', 'I sipped at the Heineken.', 'The Heineken was the target of my sipping.', 0], ['conative', \"Jake sipped at the jug and didn't answer.\", 'Jake was quiet when he drinks.', 1], ['conative', \"Jake sipped at the jug and didn't answer.\", \"The jug was not the target of Jake's sipping.\", 2], ['conative', \"Jake sipped at the jug and didn't answer.\", \"The jug was the target of Jake's sipping.\", 0], ['conative', 'Phil nibbled at the cake.', 'Phil nibbled at the cake gratefully.', 1], ['conative', 'Phil nibbled at the cake.', 'The cake was not the target of his nibbling.', 2], ['conative', 'Phil nibbled at the cake.', 'The cake was the target of his nibbling.', 0], ['conative', 'He nibbled at the filet, then ate ravenously.', \"He didn't realize how hungry he was for food.\", 1], ['conative', 'He nibbled at the filet, then ate ravenously.', 'The filet was not the target of his nibbling.', 2], ['conative', 'He nibbled at the filet, then ate ravenously.', 'The filet was the target of his nibbling.', 0], ['conative', 'He kissed her in return, then brushed at the lipstick he knew she had left behind.', 'She had worn lipstick that day, not knowing she would be kissed.', 1], ['conative', 'He kissed her in return, then brushed at the lipstick he knew she had left behind.', 'He made a brushing motion in the opposite direction of the lipstick.', 2], ['conative', 'He kissed her in return, then brushed at the lipstick he knew she had left behind.', 'The lipstick was the target of his brushing motion.', 0], ['conative', 'He studied her face, brushed at the hair that tumbled over her shoulders.', 'She had long hair past her shoulders that he moved away.', 1], ['conative', 'He studied her face, brushed at the hair that tumbled over her shoulders.', 'He studied her face and made no brushing motion in the direction of her hair.', 2], ['conative', 'He studied her face, brushed at the hair that tumbled over her shoulders.', 'As he studied her face, he made a brushing movement towards the hair tumbling over her shoulders.', 0], ['conative', 'Someone hammered at the front door.', 'Someone broke open the door.', 1], ['conative', 'Someone hammered at the front door.', 'The hammering did not target the front door.', 2], ['conative', 'Someone hammered at the front door.', 'The front door was the target of the hammering.', 0], ['intransitive-motion', 'He returns to Haas every spring to give a special marketing lecture', 'He reluctantly returns to Haas every spring to give a special marketing lecture', 1], ['intransitive-motion', 'He returns to Haas every spring to give a special marketing lecture', 'He does not change locations every spring.', 2], ['intransitive-motion', 'He returns to Haas every spring to give a special marketing lecture', 'He changes location by returning.', 0], ['intransitive-motion', 'The Weweantic River FLOWS through the pond.', 'The Weweantic River flows rapidly through the pond.', 1], ['intransitive-motion', 'The Weweantic River FLOWS through the pond.', 'The Weweantic River flows without moving.', 2], ['intransitive-motion', 'The Weweantic River FLOWS through the pond.', \"The Wewantic River's motion travels through the pond.\", 0], ['intransitive-motion', 'Careful this floor board squeaks...cant SNEAK in late down this hallway', 'Careful this floor board squeaks…my dad built the house so that you cant SNEAK in late.', 1], ['intransitive-motion', 'Careful this floor board squeaks...cant SNEAK in late down this hallway', 'Careful this floor board squeaks...cant stay in one place in this hallway.', 2], ['intransitive-motion', 'Careful this floor board squeaks...cant SNEAK in late down this hallway', 'Careful this floor board squeaks... cant change locations late down this hallway', 0], ['intransitive-motion', 'People who SPILLED over from the \"protest\" attacked their car as it went down Regent Street.', 'An innocent person was driving down Regent Street when their car was attacked by protestors.', 1], ['intransitive-motion', 'People who SPILLED over from the \"protest\" attacked their car as it went down Regent Street.', 'People who stayed in a static location in the \"protest\" attacked their car as it went down Regent Street.', 2], ['intransitive-motion', 'People who SPILLED over from the \"protest\" attacked their car as it went down Regent Street.', 'People who changed locations from the \"protest\" attacked their car as it went down Regent Street.', 0], ['intransitive-motion', 'Marchers will PROCEED on Pine St. to Broadway, to Market.', 'Marchers will proceed on Market until they reach the capital building.', 1], ['intransitive-motion', 'Marchers will PROCEED on Pine St. to Broadway, to Market.', 'Marchers will not travel to Broadway and to Market.', 2], ['intransitive-motion', 'Marchers will PROCEED on Pine St. to Broadway, to Market.', 'Marchers will not be at one static location.', 0], ['intransitive-motion', 'Thousands of mine workers and supporters plan to MARCH around the headquarters of Peabody Energy in St. Louis this coming Tuesday, Sept. 24th.', 'Mine workers and supporters are protesting for fair wages at the Peabody Energy in St. Louis on this coming Tuesday, Sept. 24th.', 1], ['intransitive-motion', 'Thousands of mine workers and supporters plan to MARCH around the headquarters of Peabody Energy in St. Louis this coming Tuesday, Sept. 24th.', 'Thousands of mine workers and supporters plan to march in place this coming Tuesday, Sept. 24th.', 2], ['intransitive-motion', 'Thousands of mine workers and supporters plan to MARCH around the headquarters of Peabody Energy in St. Louis this coming Tuesday, Sept. 24th.', 'Thousands of mine workers and supporters plan to not stay in one place this coming Tuesday, Sept. 24th.', 0], ['intransitive-motion', 'He was beginning to be afraid he had come to the wrong planet , when a coil of gold , the color of the moonlight , FLASHED across the sand .', 'The man had vistied a totally different planet covered in sand that had looked like the wrong one, when a light flashed across the sand.', 1], ['intransitive-motion', 'He was beginning to be afraid he had come to the wrong planet , when a coil of gold , the color of the moonlight , FLASHED across the sand .', 'He was beginning to be afraid he had come to the wrong planet , when a coil of gold , the color of the moonlight remained in a static location on the sand.', 2], ['intransitive-motion', 'He was beginning to be afraid he had come to the wrong planet , when a coil of gold , the color of the moonlight , FLASHED across the sand .', 'He was beginning to be afraid he had come to the wrong planet, when a coil of gold, the color of the moonlight, traveled from one location to another.', 0], ['intransitive-motion', 'I RAN around the track.', 'I run professionally.', 1], ['intransitive-motion', 'I RAN around the track.', 'I ran, staying in one place.', 2], ['intransitive-motion', 'I RAN around the track.', 'I changed locations by running.', 0], ['intransitive-motion', 'I DROVE through the tunnel.', 'I was driving in my car', 1], ['intransitive-motion', 'I DROVE through the tunnel.', 'I did not change locations.', 2], ['intransitive-motion', 'I DROVE through the tunnel.', 'I traveled to a different location by driving.', 0], ['intransitive-motion', 'We DROVE past the hotel.', 'We DROVE all the way to the next city.', 1], ['intransitive-motion', 'We DROVE past the hotel.', 'We drove, not changing locations.', 2], ['intransitive-motion', 'We DROVE past the hotel.', 'We changed locations to a point beyond the hotel.', 0], ['intransitive-motion', 'The plane FLEW over the Grand Canyon.', 'The plane flew to its destination of California.', 1], ['intransitive-motion', 'The plane FLEW over the Grand Canyon.', 'The plane stayed in a static location.', 2], ['intransitive-motion', 'The plane FLEW over the Grand Canyon.', \"The plane didn't stay in one place.\", 0], ['intransitive-motion', 'I DRIVE past Watkins Landing every morning and evening .', 'I pass by Watkins Landing on my way into work and back home.', 1], ['intransitive-motion', 'I DRIVE past Watkins Landing every morning and evening .', 'I drive, staying in the same place, every morning and evening.', 2], ['intransitive-motion', 'I DRIVE past Watkins Landing every morning and evening .', 'I travel via driving every morning and evening.', 0], ['intransitive-motion', 'I COMMUTE back and forth to work on the Huguenot Trail .', 'I commute by bike to stay healthy and enjoy the views from the Huguenot Trail.', 1], ['intransitive-motion', 'I COMMUTE back and forth to work on the Huguenot Trail .', 'I commute by not moving on Huguenot Trail.', 2], ['intransitive-motion', 'I COMMUTE back and forth to work on the Huguenot Trail .', 'I change locations to go to work.', 0], ['intransitive-motion', 'The tornado that ADVANCED through southern Oklahoma City and Moore cut a 40-mile swath across the middle of the state, leaving concrete slabs where homes had been.', 'The tornado that ADVANCED through southern Oklahoma City and Moore cut a 40-mile swath across the middle of the state, where there are hundreds of homes and two commercial farms.', 1], ['intransitive-motion', 'The tornado that ADVANCED through southern Oklahoma City and Moore cut a 40-mile swath across the middle of the state, leaving concrete slabs where homes had been.', 'The tornado stayed in one place in southern Oklahoma City.', 2], ['intransitive-motion', 'The tornado that ADVANCED through southern Oklahoma City and Moore cut a 40-mile swath across the middle of the state, leaving concrete slabs where homes had been.', 'The tornado changed locations throughout southern Oklahoma City and Moore.', 0], ['intransitive-motion', 'Dade County and federal authorities, learning that he intended to FLY through Miami, made plans to arrest him on the gun-running charges as soon as he hit U.S. soil.', 'Dade County and federal authorities, who are famous for daring arrests, made plans to arrest him on the gun-running charges as soon as he hit U.S. soil.', 1], ['intransitive-motion', 'Dade County and federal authorities, learning that he intended to FLY through Miami, made plans to arrest him on the gun-running charges as soon as he hit U.S. soil.', 'Dade County and federal authorities learned that he intended to stay in Miami.', 2], ['intransitive-motion', 'Dade County and federal authorities, learning that he intended to FLY through Miami, made plans to arrest him on the gun-running charges as soon as he hit U.S. soil.', 'Dade County and federal authorities learned he intended to change locations.', 0], ['intransitive-motion', 'Oguz said that anyone FLYING over the major opium producing areas would see a lot of small fires in the mountains, which are heroin labs.', 'Major opium producing areas create many large fires.', 1], ['intransitive-motion', 'Oguz said that anyone FLYING over the major opium producing areas would see a lot of small fires in the mountains, which are heroin labs.', 'Oguz said that anyone flying without moving would see a lot of small fires in the mountains, which are heroin labs.', 2], ['intransitive-motion', 'Oguz said that anyone FLYING over the major opium producing areas would see a lot of small fires in the mountains, which are heroin labs.', 'Oguz said that anyone traveling over the major opium producing areas would see a lot of small fires in the mountains, which are heroin labs.', 0], ['intransitive-motion', \"Each year , over 50,000 migratory birds FLY over Hong Kong 's skyscrapers.\", \"Each year , over 50,000 migratory birds FLY over Hong Kong 's skyscrapers and have inspired beautiful art for generations.\", 1], ['intransitive-motion', \"Each year , over 50,000 migratory birds FLY over Hong Kong 's skyscrapers.\", \"Each year , over 50,000 migratory birds remain stationary at Hong Kong 's skyscrapers.\", 2], ['intransitive-motion', \"Each year , over 50,000 migratory birds FLY over Hong Kong 's skyscrapers.\", \"Each year, over 50,000 migratory birds do not remain stationary at Hong Kong's skyscrapers.\", 0], ['intransitive-motion', \"But it's all FLYING right over your head.\", 'It’s all complicated math above your level.', 1], ['intransitive-motion', \"But it's all FLYING right over your head.\", \"But it's all flying, staying in the same place.\", 2], ['intransitive-motion', \"But it's all FLYING right over your head.\", \"But it's all flying, changing locations.\", 0], ['intransitive-motion', \"I'll bet the email lies are FLYING back and forth.\", 'There are also lies flying back and forth over the phone.', 1], ['intransitive-motion', \"I'll bet the email lies are FLYING back and forth.\", \"I'll bet the email lies are not moving.\", 2], ['intransitive-motion', \"I'll bet the email lies are FLYING back and forth.\", \"I'll bet the email lies are not remaining in one place.\", 0], ['intransitive-motion', \"It will be like you're FLOATING along fine, then in an instant, you are caught up in this huge swell of the urge to smoke.\", 'Quitting smoking may imrove your ability to swim and complete other cardiovascular exercises.', 1], ['intransitive-motion', \"It will be like you're FLOATING along fine, then in an instant, you are caught up in this huge swell of the urge to smoke.\", \"It will be like you're not moving at all, then in an instant, you are caught up in this huge swell of the urge to smoke.\", 2], ['intransitive-motion', \"It will be like you're FLOATING along fine, then in an instant, you are caught up in this huge swell of the urge to smoke.\", \"It will be like you're traveling fine, then in an instant, you are caught up in this huge swell of the urge to smoke.\", 0], ['intransitive-motion', 'The law will probably JUMP back and forth in the coming years.', 'Laws change all the time throughout the years.', 1], ['intransitive-motion', 'The law will probably JUMP back and forth in the coming years.', 'The law will probably stay in the same place in the coming years.', 2], ['intransitive-motion', 'The law will probably JUMP back and forth in the coming years.', 'The law will probably move around by jumping in the coming years.', 0], ['intransitive-motion', 'The 23 frantically SCRAMBLED to the rear of the sub.', 'The 23 frantically scrambled a long distance to the rear of the sub.', 1], ['intransitive-motion', 'The 23 frantically SCRAMBLED to the rear of the sub.', 'The 23 did not move to the rear of the sub.', 2], ['intransitive-motion', 'The 23 frantically SCRAMBLED to the rear of the sub.', 'The 23 frantically changed locations to the rear of the sub.', 0], ['intransitive-motion', 'Armed troops MARCHED to the substations and turned the power back on.', 'Armed troops MARCHED to the substations that powered over half of the city.', 1], ['intransitive-motion', 'Armed troops MARCHED to the substations and turned the power back on.', 'Armed troops marched to a location that was not the substations and turned the power back on.', 2], ['intransitive-motion', 'Armed troops MARCHED to the substations and turned the power back on.', 'The end point of the armed troops movement was the substations.', 0], ['caused-motion', \"The Vietnam News Agency said Australian national Tran Van Thanh was arrested on 30 June 2003 in the southern Vietnam city of dalat for Tran's involvement in a network SMUGGLING heroin from Cambodia to Australia via Vietnam.\", \"The Vietnam News Agency, which has earned several prizes for journalism, said Australian national Tran Van Thanh was arrested on 30 June 2003 in the southern Vietnam city of dalat for Tran's involvement in a network SMUGGLING heroin.\", 1], ['caused-motion', \"The Vietnam News Agency said Australian national Tran Van Thanh was arrested on 30 June 2003 in the southern Vietnam city of dalat for Tran's involvement in a network SMUGGLING heroin from Cambodia to Australia via Vietnam.\", \"The Vietnam News Agency said Australian national Tran Van Thanh was arrested on 30 June 2003 in the southern Vietnam city of dalat for Tran's involvement in a network keeping heroin in a static location.\", 2], ['caused-motion', \"The Vietnam News Agency said Australian national Tran Van Thanh was arrested on 30 June 2003 in the southern Vietnam city of dalat for Tran's involvement in a network SMUGGLING heroin from Cambodia to Australia via Vietnam.\", \"The Vietnam News Agency said Australian national Tran Van Thanh was arrested on 30 June 2003 in the southern Vietnam city of dalat for Tran's involvement in a network causing heroin to move to Australia by smuggling it.\", 0], ['caused-motion', 'Myanmar has no reported H5N1 cases but Indian officials suspect that poultry could be SMUGGLED through Myanmar from Thailand.', 'Poultry smuggling from Thailand is the main way that disease and crime spreads to Myanmar.', 1], ['caused-motion', 'Myanmar has no reported H5N1 cases but Indian officials suspect that poultry could be SMUGGLED through Myanmar from Thailand.', 'Myanmar has no reported H5N1 cases but Indian officials suspect that poultry will not be moved from Myanmar to Thailand.', 2], ['caused-motion', 'Myanmar has no reported H5N1 cases but Indian officials suspect that poultry could be SMUGGLED through Myanmar from Thailand.', 'Myanmar has no reported H5N1 cases but Indian officials suspect that poultry could end up traveling in Myanmar through smuggling.', 0], ['caused-motion', 'After the seven hundred passengers on the train were stranded for two hours , they were GUIDED through the tunnels to a safe place .', 'After the seven hundred passengers on the train were stranded for two hours, they were determined to find another way to get to work.', 1], ['caused-motion', 'After the seven hundred passengers on the train were stranded for two hours , they were GUIDED through the tunnels to a safe place .', 'After the seven hundred passengers on the train were stranded for two hours , they were moved through the tunnels away from a safe place.', 2], ['caused-motion', 'After the seven hundred passengers on the train were stranded for two hours , they were GUIDED through the tunnels to a safe place .', 'After the seven hundred passengers on the train were stranded for two hours, they were moved through the tunnels to a safe place by being guided.', 0], ['caused-motion', 'But we also exported nickel to the United States .', 'There is high demand for nickel in the United States', 1], ['caused-motion', 'But we also exported nickel to the United States .', 'We did not cause nickel to change locations by exporting it.', 2], ['caused-motion', 'But we also exported nickel to the United States .', 'We caused nickel to change locations by exporting it.', 0], ['caused-motion', 'The MiG-25 FIRED an AAM at the Predator.', 'The predator was hit by the AAM.', 1], ['caused-motion', 'The MiG-25 FIRED an AAM at the Predator.', 'The MiG-25 did not cause an AAM to move toward the Predator.', 2], ['caused-motion', 'The MiG-25 FIRED an AAM at the Predator.', 'An AAM moved in the direction of the Predator.', 0], ['caused-motion', 'Mealman works in construction and DROVE his 16-foot trailer to the area to help people salvage what they can from their homes.', 'Mealman works in construction and DROVE his 16-foot trailer to the area to help people salvage valuables, mostly jewelry and tech devices, from their homes.', 1], ['caused-motion', 'Mealman works in construction and DROVE his 16-foot trailer to the area to help people salvage what they can from their homes.', \"Mealman's trailer did not change locations.\", 2], ['caused-motion', 'Mealman works in construction and DROVE his 16-foot trailer to the area to help people salvage what they can from their homes.', 'Mealman’s trailer changed locations through driving.', 0], ['caused-motion', 'Pope was FLOWN to the U.S. military base at Ramstein, Germany.', 'Pope was FLOWN to the U.S. military base in Germany, where he stayed for weeks.', 1], ['caused-motion', 'Pope was FLOWN to the U.S. military base at Ramstein, Germany.', 'Pope did not change locations.', 2], ['caused-motion', 'Pope was FLOWN to the U.S. military base at Ramstein, Germany.', 'Pope changed locations by flying.', 0], ['caused-motion', 'Australian Schapelle Corby was convicted of TRAFFICKING marijuana into Bali and jailed for 20 years.', 'Austrialian Schapelle Corby was unexpectedly convicted of trafficking marijuana into Bali and jailed for 20 years.', 1], ['caused-motion', 'Australian Schapelle Corby was convicted of TRAFFICKING marijuana into Bali and jailed for 20 years.', 'Australian Schapelle Corby was convicted of not moving marijuana and jailed for 20 years.', 2], ['caused-motion', 'Australian Schapelle Corby was convicted of TRAFFICKING marijuana into Bali and jailed for 20 years.', 'Australian Schapelle Corby was convicted of moving marijuana from one location to another.', 0], ['caused-motion', 'The Pakistan-born man was then DEPORTED to the United Kingdom on 070713.', 'The man from Pakistan went against his will to the United Kingdom for a crime committed.', 1], ['caused-motion', 'The Pakistan-born man was then DEPORTED to the United Kingdom on 070713.', 'The Pakistan-born man was then deported to somewhere other than the United Kingdom.', 2], ['caused-motion', 'The Pakistan-born man was then DEPORTED to the United Kingdom on 070713.', 'The Pakistan-born man changed locations.', 0], ['caused-motion', 'Mexican football club owner and 4 team members are charged with TRAFFICKING cocaine and marijuana from Colombia to the United States.', 'Mexican football club owner and 4 team members are charged with TRAFFICKING the very highest quality cocaine and marijuana from Colombia.', 1], ['caused-motion', 'Mexican football club owner and 4 team members are charged with TRAFFICKING cocaine and marijuana from Colombia to the United States.', 'Mexican football club owner and 4 team members are charged with keeping cocaine and marijuana in a static location.', 2], ['caused-motion', 'Mexican football club owner and 4 team members are charged with TRAFFICKING cocaine and marijuana from Colombia to the United States.', 'Mexican football club owner and 4 team members are charged with causing cocaine and marijuana to travel to the United States through trafficking.', 0], ['caused-motion', 'China confirmed on January 23, 2007 after 12 days of silence that China had FIRED a guided missile into space to destroy one of its satellites.', 'China confirmed on January 23, 2007 after 12 days of silence that China had FIRED a guided missile, JL-2 \"Ju Lang\" 2, into space.', 1], ['caused-motion', 'China confirmed on January 23, 2007 after 12 days of silence that China had FIRED a guided missile into space to destroy one of its satellites.', 'China confirmed on January 23, 2007 after 12 days of silence that China had not caused a guided missile to go into space by firing it.', 2], ['caused-motion', 'China confirmed on January 23, 2007 after 12 days of silence that China had FIRED a guided missile into space to destroy one of its satellites.', 'China confirmed on January 23, 2007 after 12 days of silence that China had caused a guided missle to go into space by firing it.', 0], ['caused-motion', 'Chinese officials stated on May 14, 2007 that China had LAUNCHED a Chinese manufactured communications satellite into orbit on behalf of Nigeria.', \"It was reported on the Chinese news in May of 2007 that China had sent a very powerful Chinese satellite into space to fulfill Nigeria's needs of communication.\", 1], ['caused-motion', 'Chinese officials stated on May 14, 2007 that China had LAUNCHED a Chinese manufactured communications satellite into orbit on behalf of Nigeria.', 'Chinese officials stated on May 14, 2007 that China did not cause a Chinese manufactured communications satellite to enter orbit on behalf of Nigeria.', 2], ['caused-motion', 'Chinese officials stated on May 14, 2007 that China had LAUNCHED a Chinese manufactured communications satellite into orbit on behalf of Nigeria.', 'Chinese officials stated on May 14, 2007 that a Chinese manufactured communications satellite had not stayed in the same place.', 0], ['causative-with-CxN', 'Kevin lifted the trumpet and filled the room with happy noise.', 'Kevin lifted the trumpet and played to an audience that filled the room.', 1], ['causative-with-CxN', 'Kevin lifted the trumpet and filled the room with happy noise.', 'The room contained no happy noise.', 2], ['causative-with-CxN', 'Kevin lifted the trumpet and filled the room with happy noise.', 'Kevin caused the room to contain happy noise.', 0], ['causative-with-CxN', 'Dude has filled the room with flowers and teddy bears and cheesy cards.', 'A man filled the room with sweet things for his significant other.', 1], ['causative-with-CxN', 'Dude has filled the room with flowers and teddy bears and cheesy cards.', 'The room does not contain flowers and teddy bears and cheesy cards.', 2], ['causative-with-CxN', 'Dude has filled the room with flowers and teddy bears and cheesy cards.', 'There are flowers, teddy bears, and cheesy cards in the room.', 0], ['causative-with-CxN', 'Freshly ground coffee beans filled the room with a seductive, earthy aroma.', 'A large amount of coffee beans filled the room with a seductive, earthy aroma.', 1], ['causative-with-CxN', 'Freshly ground coffee beans filled the room with a seductive, earthy aroma.', 'The room did not contain a seductive, earthy aroma.', 2], ['causative-with-CxN', 'Freshly ground coffee beans filled the room with a seductive, earthy aroma.', 'There was a seductive, earthy aroma in the room.', 0], ['causative-with-CxN', 'Samsung has flooded the market with their advertising.', 'Samsung has flooded the market with tasteful, funny ads.', 1], ['causative-with-CxN', 'Samsung has flooded the market with their advertising.', 'There are no ads on the market.', 2], ['causative-with-CxN', 'Samsung has flooded the market with their advertising.', 'The market contains advertising by Samsung.', 0], ['causative-with-CxN', 'Saudi flooded the market with cheap oil then so they could recover their market share.', 'Saudi flooded the market with cheap oil that was sold to at least five countries.', 1], ['causative-with-CxN', 'Saudi flooded the market with cheap oil then so they could recover their market share.', 'There was no cheap oil on the market.', 2], ['causative-with-CxN', 'Saudi flooded the market with cheap oil then so they could recover their market share.', 'Saudi caused the market to contain cheap oil.', 0], ['causative-with-CxN', 'The Chinese already have flooded the market with juice-grade apples.', 'The Chinese have the largest, juiciest apples on the market.', 1], ['causative-with-CxN', 'The Chinese already have flooded the market with juice-grade apples.', 'The Chinese did not cause the market to contain juice-grade apples.', 2], ['causative-with-CxN', 'The Chinese already have flooded the market with juice-grade apples.', 'The market contains juice-grade apples.', 0], ['causative-with-CxN', 'Rosa covered his face with kisses.', \"Rosa's red lipstick covered his face.\", 1], ['causative-with-CxN', 'Rosa covered his face with kisses.', 'His face had no kisses on it.', 2], ['causative-with-CxN', 'Rosa covered his face with kisses.', 'Rosa caused his face to have kisses on it.', 0], ['causative-with-CxN', 'He lay on the bed and covered his face with a blanket.', 'He covered himself with the blanket in bed out of embarrassment.', 1], ['causative-with-CxN', 'He lay on the bed and covered his face with a blanket.', 'He lay on the bed and had no blanket on his face.', 2], ['causative-with-CxN', 'He lay on the bed and covered his face with a blanket.', 'There is a blanket on his face.', 0], ['causative-with-CxN', 'Turning to the wall he covered his face with a pillow.', 'He turned his face to the wall and covered it out of embarrassment.', 1], ['causative-with-CxN', 'Turning to the wall he covered his face with a pillow.', 'He did not cause his face to have a pillow on it.', 2], ['causative-with-CxN', 'Turning to the wall he covered his face with a pillow.', 'There was a pillow on his face.', 0], ['causative-with-CxN', 'The school filled his head with knowledge, challenged him with tests, quizzes, and homework.', 'The school imparted pertinent, real-world knowledge and challenged him with tests, quizzes and homework.', 1], ['causative-with-CxN', 'The school filled his head with knowledge, challenged him with tests, quizzes, and homework.', 'There is no knowledge contained in his head.', 2], ['causative-with-CxN', 'The school filled his head with knowledge, challenged him with tests, quizzes, and homework.', 'The school caused his head to contain knowledge.', 0], ['causative-with-CxN', 'Susan trapped him, filled his head with lies.', 'Susan was a trapper by trade, specializing in mink hats.', 1], ['causative-with-CxN', 'Susan trapped him, filled his head with lies.', 'His head contains no lies.', 2], ['causative-with-CxN', 'Susan trapped him, filled his head with lies.', 'Susan caused his head to contain lies.', 0], ['causative-with-CxN', 'They made him take pills that filled his head with cold, silent noise.', 'They made him take pills that were supposed to ease his headache.', 1], ['causative-with-CxN', 'They made him take pills that filled his head with cold, silent noise.', 'The pills did not cause his head to contain cold, silent noise.', 2], ['causative-with-CxN', 'They made him take pills that filled his head with cold, silent noise.', 'There was cold, silent noise in his head.', 0], ['causative-with-CxN', \"She's also covered her body with tattoos.\", \"She's covered her body with tattoos of worms and roses.\", 1], ['causative-with-CxN', \"She's also covered her body with tattoos.\", 'She did not cause her body to have tattoos.', 2], ['causative-with-CxN', \"She's also covered her body with tattoos.\", 'There were tattoos on her body.', 0], ['causative-with-CxN', 'Howze filled her house with music and color.', 'Howze was the best roommate she had ever had.', 1], ['causative-with-CxN', 'Howze filled her house with music and color.', \"There was no music and color in Howze's house.\", 2], ['causative-with-CxN', 'Howze filled her house with music and color.', 'There was music and color in Howze’s house.', 0], ['causative-with-CxN', 'The cork came out with a pleasant pop and he filled her glass with the rich red liquid.', 'The red wine bottle was opened by him and he poured her a glass full of it.', 1], ['causative-with-CxN', 'The cork came out with a pleasant pop and he filled her glass with the rich red liquid.', 'The rich red liquid was not contained by her glass.', 2], ['causative-with-CxN', 'The cork came out with a pleasant pop and he filled her glass with the rich red liquid.', 'There was rich red liquid in her glass.', 0], ['causative-with-CxN', 'The waiter filled her glass with white wine.', 'She ordered the white wine in a glass.', 1], ['causative-with-CxN', 'The waiter filled her glass with white wine.', 'There was no white wine in her glass.', 2], ['causative-with-CxN', 'The waiter filled her glass with white wine.', 'There is white whine in her glass.', 0], ['causative-with-CxN', 'Virginia Woolf filled her pockets with rocks and walked into a river.', 'After filling her pockets with rocks, Virginia Woolf walked into a river famous for its clear waters.', 1], ['causative-with-CxN', 'Virginia Woolf filled her pockets with rocks and walked into a river.', \"There were no rocks in Virginia Woolf's pockets.\", 2], ['causative-with-CxN', 'Virginia Woolf filled her pockets with rocks and walked into a river.', 'Virginia Woolf caused her pockets to contain rocks.', 0], ['causative-with-CxN', 'A blizzard soon covered their bodies with snow.', 'Blizzards can be fun for children playing in the snow.', 1], ['causative-with-CxN', 'A blizzard soon covered their bodies with snow.', 'A blizzard caused no snow to be present on their bodies.', 2], ['causative-with-CxN', 'A blizzard soon covered their bodies with snow.', 'There was snow on their bodies.', 0], ['comparative-correlative', 'The harder they come, the harder they fall.', 'The harder they quickly come, the harder they slowly fall.', 1], ['comparative-correlative', 'The harder they come, the harder they fall.', 'The hardness of their coming has a positive impact on the hardness of their falling.', 0], ['comparative-correlative', 'The harder they come, the harder they fall.', 'Increasing how hard they come will decrease how hard they fall.', 2], ['comparative-correlative', 'The longer he is around, the more miserable I will be.', 'The longer he is around, the louder I will be.', 1], ['comparative-correlative', 'The longer he is around, the more miserable I will be.', 'Increasing the length he is around will increase the amount of misery I will have.', 0], ['comparative-correlative', 'The longer he is around, the more miserable I will be.', 'There is a negative correlation between the length he is around and the amount if misery I will have.', 2], ['comparative-correlative', 'The more I studied, the less I understood.', 'The more I reluctantly studied, the less I happily understood.', 1], ['comparative-correlative', 'The more I studied, the less I understood.', 'Increasing the amount I studied decreases the amount I understood.', 0], ['comparative-correlative', 'The more I studied, the less I understood.', 'There is a positive correlation between the amount I studied and the amount I understood.', 2], ['comparative-correlative', 'It seems the older the patient, the less effective the drug.', 'Increasing the level of exercise of the patient will decrease the level of effectiveness of the drug.', 1], ['comparative-correlative', 'It seems the older the patient, the less effective the drug.', 'The age of the patient is negatively correlated with the effectiveness of the drug.', 0], ['comparative-correlative', 'It seems the older the patient, the less effective the drug.', 'Increasing the age of the patient will increase the level of effectiveness of the drug.', 2], ['comparative-correlative', 'Applied to health care, the longer we wait for it the worse off we are and the longer we put it off the longer it will take to fine tune it.', 'The amount of time we wait for it is positively correlated with the expenses of healthcare.', 1], ['comparative-correlative', 'Applied to health care, the longer we wait for it the worse off we are and the longer we put it off the longer it will take to fine tune it.', 'Increasing the amount of time we wait for it will decrease the level of wellbeing we have.', 0], ['comparative-correlative', 'Applied to health care, the longer we wait for it the worse off we are and the longer we put it off the longer it will take to fine tune it.', 'The amount of time we wait for it is positively correlated with our level of wellbeing.', 2], ['comparative-correlative', 'The lower the prices, the more you will sell.', 'The price level is positively correlated with the amount of praise an item will receive.', 1], ['comparative-correlative', 'The lower the prices, the more you will sell.', 'Increasing the price level will decrease the amount you will sell.', 0], ['comparative-correlative', 'The lower the prices, the more you will sell.', 'The price level is positively correlated with the amount you will sell.', 2], ['comparative-correlative', 'The more bureaucrats run charities, the more people who need them.', 'Increasing the amount of money that bureaucrats donate to charities will increase the number of people who need charities.', 1], ['comparative-correlative', 'The more bureaucrats run charities, the more people who need them.', 'Increasing the number of bureaucrats who run charities will increase the amount of people who need charities.', 0], ['comparative-correlative', 'The more bureaucrats run charities, the more people who need them.', 'The amount of bureaucrats who run charities is negatively correlated with the amount of people who need charities.', 2], ['comparative-correlative', 'The more expensive the decision, the more will senior management be involved.', 'The level of excitement around the decision is positively correlated with the amount that senior management will be involved.', 1], ['comparative-correlative', 'The more expensive the decision, the more will senior management be involved.', 'There is a positive correlation between the level of expense of the decision and the level of involvement by senior management.', 0], ['comparative-correlative', 'The more expensive the decision, the more will senior management be involved.', 'Increasing the expense of the decision will decrease the level of involvement by senior management.', 2], ['comparative-correlative', 'The fewer things we make the more sustainable we are.', 'The amount of expense of the things we make is negatively correlated with our level of sustainability.', 1], ['comparative-correlative', 'The fewer things we make the more sustainable we are.', 'The amount of things we make is negatively correlated with our level of sustainability.', 0], ['comparative-correlative', 'The fewer things we make the more sustainable we are.', 'Increasing the amount of things we make will increase our level of sustainability.', 2], ['comparative-correlative', 'The more they work, the more I will pay them.', 'The amount of happiness they have while working is negatively correlated with how much I will pay them.', 1], ['comparative-correlative', 'The more they work, the more I will pay them.', 'Increasing the amount they work will increase the amount I pay them.', 0], ['comparative-correlative', 'The more they work, the more I will pay them.', 'The amount they work is negatively correlated with the amount I will pay them.', 2]]\n"
          ]
        }
      ]
    },
    {
      "cell_type": "code",
      "source": [
        "test_df = pd.DataFrame(columns=[\"construction\",\"premise\",\"hypothesis\",\"relation\"], data=tester.test_data)"
      ],
      "metadata": {
        "id": "Kr73Y7HnyUNP"
      },
      "execution_count": 79,
      "outputs": []
    },
    {
      "cell_type": "code",
      "source": [
        "test_df.head()"
      ],
      "metadata": {
        "colab": {
          "base_uri": "https://localhost:8080/",
          "height": 206
        },
        "id": "gVdQW0j2ywuk",
        "outputId": "6fa085cf-c9a3-477e-de1e-a228de23572c"
      },
      "execution_count": 80,
      "outputs": [
        {
          "output_type": "execute_result",
          "data": {
            "text/plain": [
              "  construction                                            premise  \\\n",
              "0    let-alone  It is difficult enough for an individual to be...   \n",
              "1    let-alone  It is difficult enough for an individual to be...   \n",
              "2    let-alone  It is difficult enough for an individual to be...   \n",
              "3    let-alone  I would be distressed to hear of any ladies re...   \n",
              "4    let-alone  I would be distressed to hear of any ladies re...   \n",
              "\n",
              "                                          hypothesis  relation  \n",
              "0  If an individual is consistent, a society migh...         1  \n",
              "1  It is easier for a society to be consistent th...         2  \n",
              "2  It is easier for an individual to be consisten...         0  \n",
              "3  If I would be distressed of a girl of your ten...         1  \n",
              "4  I would be equally distressed to hear of any l...         2  "
            ],
            "text/html": [
              "\n",
              "  <div id=\"df-10b9dd20-be8a-4f9c-b2a3-a00fed653424\" class=\"colab-df-container\">\n",
              "    <div>\n",
              "<style scoped>\n",
              "    .dataframe tbody tr th:only-of-type {\n",
              "        vertical-align: middle;\n",
              "    }\n",
              "\n",
              "    .dataframe tbody tr th {\n",
              "        vertical-align: top;\n",
              "    }\n",
              "\n",
              "    .dataframe thead th {\n",
              "        text-align: right;\n",
              "    }\n",
              "</style>\n",
              "<table border=\"1\" class=\"dataframe\">\n",
              "  <thead>\n",
              "    <tr style=\"text-align: right;\">\n",
              "      <th></th>\n",
              "      <th>construction</th>\n",
              "      <th>premise</th>\n",
              "      <th>hypothesis</th>\n",
              "      <th>relation</th>\n",
              "    </tr>\n",
              "  </thead>\n",
              "  <tbody>\n",
              "    <tr>\n",
              "      <th>0</th>\n",
              "      <td>let-alone</td>\n",
              "      <td>It is difficult enough for an individual to be...</td>\n",
              "      <td>If an individual is consistent, a society migh...</td>\n",
              "      <td>1</td>\n",
              "    </tr>\n",
              "    <tr>\n",
              "      <th>1</th>\n",
              "      <td>let-alone</td>\n",
              "      <td>It is difficult enough for an individual to be...</td>\n",
              "      <td>It is easier for a society to be consistent th...</td>\n",
              "      <td>2</td>\n",
              "    </tr>\n",
              "    <tr>\n",
              "      <th>2</th>\n",
              "      <td>let-alone</td>\n",
              "      <td>It is difficult enough for an individual to be...</td>\n",
              "      <td>It is easier for an individual to be consisten...</td>\n",
              "      <td>0</td>\n",
              "    </tr>\n",
              "    <tr>\n",
              "      <th>3</th>\n",
              "      <td>let-alone</td>\n",
              "      <td>I would be distressed to hear of any ladies re...</td>\n",
              "      <td>If I would be distressed of a girl of your ten...</td>\n",
              "      <td>1</td>\n",
              "    </tr>\n",
              "    <tr>\n",
              "      <th>4</th>\n",
              "      <td>let-alone</td>\n",
              "      <td>I would be distressed to hear of any ladies re...</td>\n",
              "      <td>I would be equally distressed to hear of any l...</td>\n",
              "      <td>2</td>\n",
              "    </tr>\n",
              "  </tbody>\n",
              "</table>\n",
              "</div>\n",
              "    <div class=\"colab-df-buttons\">\n",
              "\n",
              "  <div class=\"colab-df-container\">\n",
              "    <button class=\"colab-df-convert\" onclick=\"convertToInteractive('df-10b9dd20-be8a-4f9c-b2a3-a00fed653424')\"\n",
              "            title=\"Convert this dataframe to an interactive table.\"\n",
              "            style=\"display:none;\">\n",
              "\n",
              "  <svg xmlns=\"http://www.w3.org/2000/svg\" height=\"24px\" viewBox=\"0 -960 960 960\">\n",
              "    <path d=\"M120-120v-720h720v720H120Zm60-500h600v-160H180v160Zm220 220h160v-160H400v160Zm0 220h160v-160H400v160ZM180-400h160v-160H180v160Zm440 0h160v-160H620v160ZM180-180h160v-160H180v160Zm440 0h160v-160H620v160Z\"/>\n",
              "  </svg>\n",
              "    </button>\n",
              "\n",
              "  <style>\n",
              "    .colab-df-container {\n",
              "      display:flex;\n",
              "      gap: 12px;\n",
              "    }\n",
              "\n",
              "    .colab-df-convert {\n",
              "      background-color: #E8F0FE;\n",
              "      border: none;\n",
              "      border-radius: 50%;\n",
              "      cursor: pointer;\n",
              "      display: none;\n",
              "      fill: #1967D2;\n",
              "      height: 32px;\n",
              "      padding: 0 0 0 0;\n",
              "      width: 32px;\n",
              "    }\n",
              "\n",
              "    .colab-df-convert:hover {\n",
              "      background-color: #E2EBFA;\n",
              "      box-shadow: 0px 1px 2px rgba(60, 64, 67, 0.3), 0px 1px 3px 1px rgba(60, 64, 67, 0.15);\n",
              "      fill: #174EA6;\n",
              "    }\n",
              "\n",
              "    .colab-df-buttons div {\n",
              "      margin-bottom: 4px;\n",
              "    }\n",
              "\n",
              "    [theme=dark] .colab-df-convert {\n",
              "      background-color: #3B4455;\n",
              "      fill: #D2E3FC;\n",
              "    }\n",
              "\n",
              "    [theme=dark] .colab-df-convert:hover {\n",
              "      background-color: #434B5C;\n",
              "      box-shadow: 0px 1px 3px 1px rgba(0, 0, 0, 0.15);\n",
              "      filter: drop-shadow(0px 1px 2px rgba(0, 0, 0, 0.3));\n",
              "      fill: #FFFFFF;\n",
              "    }\n",
              "  </style>\n",
              "\n",
              "    <script>\n",
              "      const buttonEl =\n",
              "        document.querySelector('#df-10b9dd20-be8a-4f9c-b2a3-a00fed653424 button.colab-df-convert');\n",
              "      buttonEl.style.display =\n",
              "        google.colab.kernel.accessAllowed ? 'block' : 'none';\n",
              "\n",
              "      async function convertToInteractive(key) {\n",
              "        const element = document.querySelector('#df-10b9dd20-be8a-4f9c-b2a3-a00fed653424');\n",
              "        const dataTable =\n",
              "          await google.colab.kernel.invokeFunction('convertToInteractive',\n",
              "                                                    [key], {});\n",
              "        if (!dataTable) return;\n",
              "\n",
              "        const docLinkHtml = 'Like what you see? Visit the ' +\n",
              "          '<a target=\"_blank\" href=https://colab.research.google.com/notebooks/data_table.ipynb>data table notebook</a>'\n",
              "          + ' to learn more about interactive tables.';\n",
              "        element.innerHTML = '';\n",
              "        dataTable['output_type'] = 'display_data';\n",
              "        await google.colab.output.renderOutput(dataTable, element);\n",
              "        const docLink = document.createElement('div');\n",
              "        docLink.innerHTML = docLinkHtml;\n",
              "        element.appendChild(docLink);\n",
              "      }\n",
              "    </script>\n",
              "  </div>\n",
              "\n",
              "\n",
              "    <div id=\"df-d4cfe63b-5d4a-4e6e-b04e-a41be2150b95\">\n",
              "      <button class=\"colab-df-quickchart\" onclick=\"quickchart('df-d4cfe63b-5d4a-4e6e-b04e-a41be2150b95')\"\n",
              "                title=\"Suggest charts\"\n",
              "                style=\"display:none;\">\n",
              "\n",
              "<svg xmlns=\"http://www.w3.org/2000/svg\" height=\"24px\"viewBox=\"0 0 24 24\"\n",
              "     width=\"24px\">\n",
              "    <g>\n",
              "        <path d=\"M19 3H5c-1.1 0-2 .9-2 2v14c0 1.1.9 2 2 2h14c1.1 0 2-.9 2-2V5c0-1.1-.9-2-2-2zM9 17H7v-7h2v7zm4 0h-2V7h2v10zm4 0h-2v-4h2v4z\"/>\n",
              "    </g>\n",
              "</svg>\n",
              "      </button>\n",
              "\n",
              "<style>\n",
              "  .colab-df-quickchart {\n",
              "      --bg-color: #E8F0FE;\n",
              "      --fill-color: #1967D2;\n",
              "      --hover-bg-color: #E2EBFA;\n",
              "      --hover-fill-color: #174EA6;\n",
              "      --disabled-fill-color: #AAA;\n",
              "      --disabled-bg-color: #DDD;\n",
              "  }\n",
              "\n",
              "  [theme=dark] .colab-df-quickchart {\n",
              "      --bg-color: #3B4455;\n",
              "      --fill-color: #D2E3FC;\n",
              "      --hover-bg-color: #434B5C;\n",
              "      --hover-fill-color: #FFFFFF;\n",
              "      --disabled-bg-color: #3B4455;\n",
              "      --disabled-fill-color: #666;\n",
              "  }\n",
              "\n",
              "  .colab-df-quickchart {\n",
              "    background-color: var(--bg-color);\n",
              "    border: none;\n",
              "    border-radius: 50%;\n",
              "    cursor: pointer;\n",
              "    display: none;\n",
              "    fill: var(--fill-color);\n",
              "    height: 32px;\n",
              "    padding: 0;\n",
              "    width: 32px;\n",
              "  }\n",
              "\n",
              "  .colab-df-quickchart:hover {\n",
              "    background-color: var(--hover-bg-color);\n",
              "    box-shadow: 0 1px 2px rgba(60, 64, 67, 0.3), 0 1px 3px 1px rgba(60, 64, 67, 0.15);\n",
              "    fill: var(--button-hover-fill-color);\n",
              "  }\n",
              "\n",
              "  .colab-df-quickchart-complete:disabled,\n",
              "  .colab-df-quickchart-complete:disabled:hover {\n",
              "    background-color: var(--disabled-bg-color);\n",
              "    fill: var(--disabled-fill-color);\n",
              "    box-shadow: none;\n",
              "  }\n",
              "\n",
              "  .colab-df-spinner {\n",
              "    border: 2px solid var(--fill-color);\n",
              "    border-color: transparent;\n",
              "    border-bottom-color: var(--fill-color);\n",
              "    animation:\n",
              "      spin 1s steps(1) infinite;\n",
              "  }\n",
              "\n",
              "  @keyframes spin {\n",
              "    0% {\n",
              "      border-color: transparent;\n",
              "      border-bottom-color: var(--fill-color);\n",
              "      border-left-color: var(--fill-color);\n",
              "    }\n",
              "    20% {\n",
              "      border-color: transparent;\n",
              "      border-left-color: var(--fill-color);\n",
              "      border-top-color: var(--fill-color);\n",
              "    }\n",
              "    30% {\n",
              "      border-color: transparent;\n",
              "      border-left-color: var(--fill-color);\n",
              "      border-top-color: var(--fill-color);\n",
              "      border-right-color: var(--fill-color);\n",
              "    }\n",
              "    40% {\n",
              "      border-color: transparent;\n",
              "      border-right-color: var(--fill-color);\n",
              "      border-top-color: var(--fill-color);\n",
              "    }\n",
              "    60% {\n",
              "      border-color: transparent;\n",
              "      border-right-color: var(--fill-color);\n",
              "    }\n",
              "    80% {\n",
              "      border-color: transparent;\n",
              "      border-right-color: var(--fill-color);\n",
              "      border-bottom-color: var(--fill-color);\n",
              "    }\n",
              "    90% {\n",
              "      border-color: transparent;\n",
              "      border-bottom-color: var(--fill-color);\n",
              "    }\n",
              "  }\n",
              "</style>\n",
              "\n",
              "      <script>\n",
              "        async function quickchart(key) {\n",
              "          const quickchartButtonEl =\n",
              "            document.querySelector('#' + key + ' button');\n",
              "          quickchartButtonEl.disabled = true;  // To prevent multiple clicks.\n",
              "          quickchartButtonEl.classList.add('colab-df-spinner');\n",
              "          try {\n",
              "            const charts = await google.colab.kernel.invokeFunction(\n",
              "                'suggestCharts', [key], {});\n",
              "          } catch (error) {\n",
              "            console.error('Error during call to suggestCharts:', error);\n",
              "          }\n",
              "          quickchartButtonEl.classList.remove('colab-df-spinner');\n",
              "          quickchartButtonEl.classList.add('colab-df-quickchart-complete');\n",
              "        }\n",
              "        (() => {\n",
              "          let quickchartButtonEl =\n",
              "            document.querySelector('#df-d4cfe63b-5d4a-4e6e-b04e-a41be2150b95 button');\n",
              "          quickchartButtonEl.style.display =\n",
              "            google.colab.kernel.accessAllowed ? 'block' : 'none';\n",
              "        })();\n",
              "      </script>\n",
              "    </div>\n",
              "\n",
              "    </div>\n",
              "  </div>\n"
            ],
            "application/vnd.google.colaboratory.intrinsic+json": {
              "type": "dataframe",
              "variable_name": "test_df",
              "summary": "{\n  \"name\": \"test_df\",\n  \"rows\": 390,\n  \"fields\": [\n    {\n      \"column\": \"construction\",\n      \"properties\": {\n        \"dtype\": \"category\",\n        \"num_unique_values\": 8,\n        \"samples\": [\n          \"way-manner\",\n          \"caused-motion\",\n          \"let-alone\"\n        ],\n        \"semantic_type\": \"\",\n        \"description\": \"\"\n      }\n    },\n    {\n      \"column\": \"premise\",\n      \"properties\": {\n        \"dtype\": \"category\",\n        \"num_unique_values\": 132,\n        \"samples\": [\n          \"I rubbed at the ache in my neck.\",\n          \"Dade County and federal authorities, learning that he intended to FLY through Miami, made plans to arrest him on the gun-running charges as soon as he hit U.S. soil.\",\n          \"Constance squeezed her way down the platform looking for the first-class carriages.\"\n        ],\n        \"semantic_type\": \"\",\n        \"description\": \"\"\n      }\n    },\n    {\n      \"column\": \"hypothesis\",\n      \"properties\": {\n        \"dtype\": \"string\",\n        \"num_unique_values\": 390,\n        \"samples\": [\n          \"If a promise is grounds for satisfaction, it is also grounds for complacency.\",\n          \"I yawned three times on my journey to the Narrow Neck.\",\n          \"A miner has tools that are valuable and costly to replace if dropped from high above while climbing.\"\n        ],\n        \"semantic_type\": \"\",\n        \"description\": \"\"\n      }\n    },\n    {\n      \"column\": \"relation\",\n      \"properties\": {\n        \"dtype\": \"number\",\n        \"std\": 0,\n        \"min\": 0,\n        \"max\": 2,\n        \"num_unique_values\": 3,\n        \"samples\": [\n          1,\n          2,\n          0\n        ],\n        \"semantic_type\": \"\",\n        \"description\": \"\"\n      }\n    }\n  ]\n}"
            }
          },
          "metadata": {},
          "execution_count": 80
        }
      ]
    },
    {
      "cell_type": "markdown",
      "source": [
        "## example prompt"
      ],
      "metadata": {
        "id": "2LeVN3ppwU94"
      }
    },
    {
      "cell_type": "code",
      "source": [
        "prompt = tester._generate_prompt(prompt_number, test_df['construction'][0]).format(\n",
        "    test_df['premise'][0],\n",
        "    test_df['hypothesis'][0]\n",
        ")\n",
        "print(prompt)"
      ],
      "metadata": {
        "colab": {
          "base_uri": "https://localhost:8080/"
        },
        "id": "liqzJreBsnk6",
        "outputId": "0c0e5d7f-f8cb-4b85-82dd-1ae1ab41baa9"
      },
      "execution_count": 82,
      "outputs": [
        {
          "output_type": "stream",
          "name": "stdout",
          "text": [
            "You are the best at understanding language inference based on construction grammar. You are tasked with annotating a triple for Natural Language Inference. You must determine the inference relation between the premise and the hypothesis by selecting one of three numerical codes that reflect the relationship:\n",
            "0 – entailment – The hypothesis must be true given the premise\n",
            "1 – neutral – The hypothesis may or may not be true given the premise\n",
            "2 – contradiction – The hypothesis must not be true given the premise\n",
            "Output a single numerical value between 0, 1, or 2, corresponding to the associated relation. Output a single number only and nothing else.\n",
            "\n",
            "Premise: It is difficult enough for an individual to be consistent let alone a society.\n",
            "Hypothesis: If an individual is consistent, a society might also be consistent.\n",
            "Relation: \n"
          ]
        }
      ]
    },
    {
      "cell_type": "markdown",
      "source": [
        "## Prompting the Model"
      ],
      "metadata": {
        "id": "yoQsxb4FcX69"
      }
    },
    {
      "cell_type": "code",
      "source": [
        "response = tester._gpt_get( model, prompt , temperature)"
      ],
      "metadata": {
        "id": "_fpuBWtycXYJ"
      },
      "execution_count": 71,
      "outputs": []
    },
    {
      "cell_type": "code",
      "source": [
        "print(\"model response:\", response)\n",
        "print(\"correct answer:\", test_df['relation'][0])"
      ],
      "metadata": {
        "colab": {
          "base_uri": "https://localhost:8080/"
        },
        "id": "4ZrXzopIsBrA",
        "outputId": "267ae21d-9340-4e07-a362-415dd6680a6e"
      },
      "execution_count": 84,
      "outputs": [
        {
          "output_type": "stream",
          "name": "stdout",
          "text": [
            "model response: 1\n",
            "correct answer: 1\n"
          ]
        }
      ]
    },
    {
      "cell_type": "markdown",
      "source": [
        "# Prompting with Multiple Examples"
      ],
      "metadata": {
        "id": "9vjZ92f-5B-N"
      }
    },
    {
      "cell_type": "markdown",
      "source": [
        "tester.get_all(model, prompt_number, experiment_name, temperature)"
      ],
      "metadata": {
        "id": "bLJGa9Nm0vvl"
      }
    },
    {
      "cell_type": "code",
      "source": [
        "get_all( tester, model, prompt_number, experiment_name, temperature)"
      ],
      "metadata": {
        "colab": {
          "base_uri": "https://localhost:8080/"
        },
        "id": "rzuklYjqsoK6",
        "outputId": "c165edff-dc4a-4a67-b85c-22e95293f77b"
      },
      "execution_count": 104,
      "outputs": [
        {
          "output_type": "stream",
          "name": "stderr",
          "text": [
            "100%|██████████| 390/390 [00:15<00:00, 25.14it/s]"
          ]
        },
        {
          "output_type": "stream",
          "name": "stdout",
          "text": [
            "Wrote output/output_gpt-4o-mini_CxNLI_prompt2.csv\n"
          ]
        },
        {
          "output_type": "stream",
          "name": "stderr",
          "text": [
            "\n"
          ]
        }
      ]
    },
    {
      "cell_type": "code",
      "source": [
        "results = pd.read_csv(\"output/output_{}_{}_prompt{}.csv\".format( model, experiment_name, prompt_number ))\n",
        "results.head()"
      ],
      "metadata": {
        "colab": {
          "base_uri": "https://localhost:8080/",
          "height": 206
        },
        "id": "_rovBy8B3UIq",
        "outputId": "1df633f8-a6f3-488d-d692-a4a173b52d95"
      },
      "execution_count": 106,
      "outputs": [
        {
          "output_type": "execute_result",
          "data": {
            "text/plain": [
              "         CxG schematicity                                            Premise  \\\n",
              "0  let-alone  substantive  It is difficult enough for an individual to be...   \n",
              "1  let-alone  substantive  It is difficult enough for an individual to be...   \n",
              "2  let-alone  substantive  It is difficult enough for an individual to be...   \n",
              "3  let-alone  substantive  I would be distressed to hear of any ladies re...   \n",
              "4  let-alone  substantive  I would be distressed to hear of any ladies re...   \n",
              "\n",
              "                                          Hypothesis  Gold  Prediction  \n",
              "0  If an individual is consistent, a society migh...     1           1  \n",
              "1  It is easier for a society to be consistent th...     2           2  \n",
              "2  It is easier for an individual to be consisten...     0           2  \n",
              "3  If I would be distressed of a girl of your ten...     1           0  \n",
              "4  I would be equally distressed to hear of any l...     2           0  "
            ],
            "text/html": [
              "\n",
              "  <div id=\"df-71ceefab-112a-4fee-87c5-eaf724890a11\" class=\"colab-df-container\">\n",
              "    <div>\n",
              "<style scoped>\n",
              "    .dataframe tbody tr th:only-of-type {\n",
              "        vertical-align: middle;\n",
              "    }\n",
              "\n",
              "    .dataframe tbody tr th {\n",
              "        vertical-align: top;\n",
              "    }\n",
              "\n",
              "    .dataframe thead th {\n",
              "        text-align: right;\n",
              "    }\n",
              "</style>\n",
              "<table border=\"1\" class=\"dataframe\">\n",
              "  <thead>\n",
              "    <tr style=\"text-align: right;\">\n",
              "      <th></th>\n",
              "      <th>CxG</th>\n",
              "      <th>schematicity</th>\n",
              "      <th>Premise</th>\n",
              "      <th>Hypothesis</th>\n",
              "      <th>Gold</th>\n",
              "      <th>Prediction</th>\n",
              "    </tr>\n",
              "  </thead>\n",
              "  <tbody>\n",
              "    <tr>\n",
              "      <th>0</th>\n",
              "      <td>let-alone</td>\n",
              "      <td>substantive</td>\n",
              "      <td>It is difficult enough for an individual to be...</td>\n",
              "      <td>If an individual is consistent, a society migh...</td>\n",
              "      <td>1</td>\n",
              "      <td>1</td>\n",
              "    </tr>\n",
              "    <tr>\n",
              "      <th>1</th>\n",
              "      <td>let-alone</td>\n",
              "      <td>substantive</td>\n",
              "      <td>It is difficult enough for an individual to be...</td>\n",
              "      <td>It is easier for a society to be consistent th...</td>\n",
              "      <td>2</td>\n",
              "      <td>2</td>\n",
              "    </tr>\n",
              "    <tr>\n",
              "      <th>2</th>\n",
              "      <td>let-alone</td>\n",
              "      <td>substantive</td>\n",
              "      <td>It is difficult enough for an individual to be...</td>\n",
              "      <td>It is easier for an individual to be consisten...</td>\n",
              "      <td>0</td>\n",
              "      <td>2</td>\n",
              "    </tr>\n",
              "    <tr>\n",
              "      <th>3</th>\n",
              "      <td>let-alone</td>\n",
              "      <td>substantive</td>\n",
              "      <td>I would be distressed to hear of any ladies re...</td>\n",
              "      <td>If I would be distressed of a girl of your ten...</td>\n",
              "      <td>1</td>\n",
              "      <td>0</td>\n",
              "    </tr>\n",
              "    <tr>\n",
              "      <th>4</th>\n",
              "      <td>let-alone</td>\n",
              "      <td>substantive</td>\n",
              "      <td>I would be distressed to hear of any ladies re...</td>\n",
              "      <td>I would be equally distressed to hear of any l...</td>\n",
              "      <td>2</td>\n",
              "      <td>0</td>\n",
              "    </tr>\n",
              "  </tbody>\n",
              "</table>\n",
              "</div>\n",
              "    <div class=\"colab-df-buttons\">\n",
              "\n",
              "  <div class=\"colab-df-container\">\n",
              "    <button class=\"colab-df-convert\" onclick=\"convertToInteractive('df-71ceefab-112a-4fee-87c5-eaf724890a11')\"\n",
              "            title=\"Convert this dataframe to an interactive table.\"\n",
              "            style=\"display:none;\">\n",
              "\n",
              "  <svg xmlns=\"http://www.w3.org/2000/svg\" height=\"24px\" viewBox=\"0 -960 960 960\">\n",
              "    <path d=\"M120-120v-720h720v720H120Zm60-500h600v-160H180v160Zm220 220h160v-160H400v160Zm0 220h160v-160H400v160ZM180-400h160v-160H180v160Zm440 0h160v-160H620v160ZM180-180h160v-160H180v160Zm440 0h160v-160H620v160Z\"/>\n",
              "  </svg>\n",
              "    </button>\n",
              "\n",
              "  <style>\n",
              "    .colab-df-container {\n",
              "      display:flex;\n",
              "      gap: 12px;\n",
              "    }\n",
              "\n",
              "    .colab-df-convert {\n",
              "      background-color: #E8F0FE;\n",
              "      border: none;\n",
              "      border-radius: 50%;\n",
              "      cursor: pointer;\n",
              "      display: none;\n",
              "      fill: #1967D2;\n",
              "      height: 32px;\n",
              "      padding: 0 0 0 0;\n",
              "      width: 32px;\n",
              "    }\n",
              "\n",
              "    .colab-df-convert:hover {\n",
              "      background-color: #E2EBFA;\n",
              "      box-shadow: 0px 1px 2px rgba(60, 64, 67, 0.3), 0px 1px 3px 1px rgba(60, 64, 67, 0.15);\n",
              "      fill: #174EA6;\n",
              "    }\n",
              "\n",
              "    .colab-df-buttons div {\n",
              "      margin-bottom: 4px;\n",
              "    }\n",
              "\n",
              "    [theme=dark] .colab-df-convert {\n",
              "      background-color: #3B4455;\n",
              "      fill: #D2E3FC;\n",
              "    }\n",
              "\n",
              "    [theme=dark] .colab-df-convert:hover {\n",
              "      background-color: #434B5C;\n",
              "      box-shadow: 0px 1px 3px 1px rgba(0, 0, 0, 0.15);\n",
              "      filter: drop-shadow(0px 1px 2px rgba(0, 0, 0, 0.3));\n",
              "      fill: #FFFFFF;\n",
              "    }\n",
              "  </style>\n",
              "\n",
              "    <script>\n",
              "      const buttonEl =\n",
              "        document.querySelector('#df-71ceefab-112a-4fee-87c5-eaf724890a11 button.colab-df-convert');\n",
              "      buttonEl.style.display =\n",
              "        google.colab.kernel.accessAllowed ? 'block' : 'none';\n",
              "\n",
              "      async function convertToInteractive(key) {\n",
              "        const element = document.querySelector('#df-71ceefab-112a-4fee-87c5-eaf724890a11');\n",
              "        const dataTable =\n",
              "          await google.colab.kernel.invokeFunction('convertToInteractive',\n",
              "                                                    [key], {});\n",
              "        if (!dataTable) return;\n",
              "\n",
              "        const docLinkHtml = 'Like what you see? Visit the ' +\n",
              "          '<a target=\"_blank\" href=https://colab.research.google.com/notebooks/data_table.ipynb>data table notebook</a>'\n",
              "          + ' to learn more about interactive tables.';\n",
              "        element.innerHTML = '';\n",
              "        dataTable['output_type'] = 'display_data';\n",
              "        await google.colab.output.renderOutput(dataTable, element);\n",
              "        const docLink = document.createElement('div');\n",
              "        docLink.innerHTML = docLinkHtml;\n",
              "        element.appendChild(docLink);\n",
              "      }\n",
              "    </script>\n",
              "  </div>\n",
              "\n",
              "\n",
              "    <div id=\"df-d2f17d0e-6d54-4481-8de7-7a95fc3f707b\">\n",
              "      <button class=\"colab-df-quickchart\" onclick=\"quickchart('df-d2f17d0e-6d54-4481-8de7-7a95fc3f707b')\"\n",
              "                title=\"Suggest charts\"\n",
              "                style=\"display:none;\">\n",
              "\n",
              "<svg xmlns=\"http://www.w3.org/2000/svg\" height=\"24px\"viewBox=\"0 0 24 24\"\n",
              "     width=\"24px\">\n",
              "    <g>\n",
              "        <path d=\"M19 3H5c-1.1 0-2 .9-2 2v14c0 1.1.9 2 2 2h14c1.1 0 2-.9 2-2V5c0-1.1-.9-2-2-2zM9 17H7v-7h2v7zm4 0h-2V7h2v10zm4 0h-2v-4h2v4z\"/>\n",
              "    </g>\n",
              "</svg>\n",
              "      </button>\n",
              "\n",
              "<style>\n",
              "  .colab-df-quickchart {\n",
              "      --bg-color: #E8F0FE;\n",
              "      --fill-color: #1967D2;\n",
              "      --hover-bg-color: #E2EBFA;\n",
              "      --hover-fill-color: #174EA6;\n",
              "      --disabled-fill-color: #AAA;\n",
              "      --disabled-bg-color: #DDD;\n",
              "  }\n",
              "\n",
              "  [theme=dark] .colab-df-quickchart {\n",
              "      --bg-color: #3B4455;\n",
              "      --fill-color: #D2E3FC;\n",
              "      --hover-bg-color: #434B5C;\n",
              "      --hover-fill-color: #FFFFFF;\n",
              "      --disabled-bg-color: #3B4455;\n",
              "      --disabled-fill-color: #666;\n",
              "  }\n",
              "\n",
              "  .colab-df-quickchart {\n",
              "    background-color: var(--bg-color);\n",
              "    border: none;\n",
              "    border-radius: 50%;\n",
              "    cursor: pointer;\n",
              "    display: none;\n",
              "    fill: var(--fill-color);\n",
              "    height: 32px;\n",
              "    padding: 0;\n",
              "    width: 32px;\n",
              "  }\n",
              "\n",
              "  .colab-df-quickchart:hover {\n",
              "    background-color: var(--hover-bg-color);\n",
              "    box-shadow: 0 1px 2px rgba(60, 64, 67, 0.3), 0 1px 3px 1px rgba(60, 64, 67, 0.15);\n",
              "    fill: var(--button-hover-fill-color);\n",
              "  }\n",
              "\n",
              "  .colab-df-quickchart-complete:disabled,\n",
              "  .colab-df-quickchart-complete:disabled:hover {\n",
              "    background-color: var(--disabled-bg-color);\n",
              "    fill: var(--disabled-fill-color);\n",
              "    box-shadow: none;\n",
              "  }\n",
              "\n",
              "  .colab-df-spinner {\n",
              "    border: 2px solid var(--fill-color);\n",
              "    border-color: transparent;\n",
              "    border-bottom-color: var(--fill-color);\n",
              "    animation:\n",
              "      spin 1s steps(1) infinite;\n",
              "  }\n",
              "\n",
              "  @keyframes spin {\n",
              "    0% {\n",
              "      border-color: transparent;\n",
              "      border-bottom-color: var(--fill-color);\n",
              "      border-left-color: var(--fill-color);\n",
              "    }\n",
              "    20% {\n",
              "      border-color: transparent;\n",
              "      border-left-color: var(--fill-color);\n",
              "      border-top-color: var(--fill-color);\n",
              "    }\n",
              "    30% {\n",
              "      border-color: transparent;\n",
              "      border-left-color: var(--fill-color);\n",
              "      border-top-color: var(--fill-color);\n",
              "      border-right-color: var(--fill-color);\n",
              "    }\n",
              "    40% {\n",
              "      border-color: transparent;\n",
              "      border-right-color: var(--fill-color);\n",
              "      border-top-color: var(--fill-color);\n",
              "    }\n",
              "    60% {\n",
              "      border-color: transparent;\n",
              "      border-right-color: var(--fill-color);\n",
              "    }\n",
              "    80% {\n",
              "      border-color: transparent;\n",
              "      border-right-color: var(--fill-color);\n",
              "      border-bottom-color: var(--fill-color);\n",
              "    }\n",
              "    90% {\n",
              "      border-color: transparent;\n",
              "      border-bottom-color: var(--fill-color);\n",
              "    }\n",
              "  }\n",
              "</style>\n",
              "\n",
              "      <script>\n",
              "        async function quickchart(key) {\n",
              "          const quickchartButtonEl =\n",
              "            document.querySelector('#' + key + ' button');\n",
              "          quickchartButtonEl.disabled = true;  // To prevent multiple clicks.\n",
              "          quickchartButtonEl.classList.add('colab-df-spinner');\n",
              "          try {\n",
              "            const charts = await google.colab.kernel.invokeFunction(\n",
              "                'suggestCharts', [key], {});\n",
              "          } catch (error) {\n",
              "            console.error('Error during call to suggestCharts:', error);\n",
              "          }\n",
              "          quickchartButtonEl.classList.remove('colab-df-spinner');\n",
              "          quickchartButtonEl.classList.add('colab-df-quickchart-complete');\n",
              "        }\n",
              "        (() => {\n",
              "          let quickchartButtonEl =\n",
              "            document.querySelector('#df-d2f17d0e-6d54-4481-8de7-7a95fc3f707b button');\n",
              "          quickchartButtonEl.style.display =\n",
              "            google.colab.kernel.accessAllowed ? 'block' : 'none';\n",
              "        })();\n",
              "      </script>\n",
              "    </div>\n",
              "\n",
              "    </div>\n",
              "  </div>\n"
            ],
            "application/vnd.google.colaboratory.intrinsic+json": {
              "type": "dataframe",
              "variable_name": "results",
              "summary": "{\n  \"name\": \"results\",\n  \"rows\": 24,\n  \"fields\": [\n    {\n      \"column\": \"CxG\",\n      \"properties\": {\n        \"dtype\": \"category\",\n        \"num_unique_values\": 1,\n        \"samples\": [\n          \"let-alone\"\n        ],\n        \"semantic_type\": \"\",\n        \"description\": \"\"\n      }\n    },\n    {\n      \"column\": \"schematicity\",\n      \"properties\": {\n        \"dtype\": \"category\",\n        \"num_unique_values\": 1,\n        \"samples\": [\n          \"substantive\"\n        ],\n        \"semantic_type\": \"\",\n        \"description\": \"\"\n      }\n    },\n    {\n      \"column\": \"Premise\",\n      \"properties\": {\n        \"dtype\": \"category\",\n        \"num_unique_values\": 8,\n        \"samples\": [\n          \"I would be distressed to hear of any ladies reading it, let alone a girl of your tender years and experience.\"\n        ],\n        \"semantic_type\": \"\",\n        \"description\": \"\"\n      }\n    },\n    {\n      \"column\": \"Hypothesis\",\n      \"properties\": {\n        \"dtype\": \"string\",\n        \"num_unique_values\": 24,\n        \"samples\": [\n          \"A conclusive argument is even stronger than a notably strong argument.\"\n        ],\n        \"semantic_type\": \"\",\n        \"description\": \"\"\n      }\n    },\n    {\n      \"column\": \"Gold\",\n      \"properties\": {\n        \"dtype\": \"number\",\n        \"std\": 0,\n        \"min\": 0,\n        \"max\": 2,\n        \"num_unique_values\": 3,\n        \"samples\": [\n          1\n        ],\n        \"semantic_type\": \"\",\n        \"description\": \"\"\n      }\n    },\n    {\n      \"column\": \"Prediction\",\n      \"properties\": {\n        \"dtype\": \"number\",\n        \"std\": 0,\n        \"min\": 0,\n        \"max\": 2,\n        \"num_unique_values\": 3,\n        \"samples\": [\n          1\n        ],\n        \"semantic_type\": \"\",\n        \"description\": \"\"\n      }\n    }\n  ]\n}"
            }
          },
          "metadata": {},
          "execution_count": 106
        }
      ]
    },
    {
      "cell_type": "markdown",
      "source": [
        "# Evaluation"
      ],
      "metadata": {
        "id": "lI97D5aAl5lu"
      }
    },
    {
      "cell_type": "code",
      "source": [
        "total_num = len(results)\n",
        "correct = sum(results.Gold==results.Prediction)\n",
        "\n",
        "accuracy = correct/total_num * 100\n",
        "print(\"The model got {} correct predictions out of {}\".format(correct, total_num))\n",
        "print(\"accuracy:\",accuracy)"
      ],
      "metadata": {
        "colab": {
          "base_uri": "https://localhost:8080/"
        },
        "id": "5CGEL-mY4Cv3",
        "outputId": "efca34cb-ef58-4515-bfbd-b1e5aa0a1e6b"
      },
      "execution_count": 110,
      "outputs": [
        {
          "output_type": "stream",
          "name": "stdout",
          "text": [
            "The model got 8 correct predictions out of 24\n",
            "accuracy: 33.33333333333333\n"
          ]
        }
      ]
    },
    {
      "cell_type": "markdown",
      "source": [
        "# Your own task"
      ],
      "metadata": {
        "id": "WimLuDAOkrqw"
      }
    },
    {
      "cell_type": "code",
      "source": [],
      "metadata": {
        "id": "V-oMg5qiiTJq"
      },
      "execution_count": null,
      "outputs": []
    }
  ]
}