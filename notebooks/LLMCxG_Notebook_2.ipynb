{
  "nbformat": 4,
  "nbformat_minor": 0,
  "metadata": {
    "colab": {
      "provenance": [],
      "authorship_tag": "ABX9TyPqCUb1uxSMmY4TQf40wO/9",
      "include_colab_link": true
    },
    "kernelspec": {
      "name": "python3",
      "display_name": "Python 3"
    },
    "language_info": {
      "name": "python"
    }
  },
  "cells": [
    {
      "cell_type": "markdown",
      "metadata": {
        "id": "view-in-github",
        "colab_type": "text"
      },
      "source": [
        "<a href=\"https://colab.research.google.com/github/melissatorgbi/LLMCxG_Workshop/blob/main/notebooks/LLMCxG_Notebook_2.ipynb\" target=\"_parent\"><img src=\"https://colab.research.google.com/assets/colab-badge.svg\" alt=\"Open In Colab\"/></a>"
      ]
    },
    {
      "cell_type": "code",
      "source": [
        "from runTests import runTests\n",
        "from openai import OpenAI"
      ],
      "metadata": {
        "id": "aSoWKA6MRT5S"
      },
      "execution_count": 2,
      "outputs": []
    },
    {
      "cell_type": "code",
      "source": [
        "OPENAI_API_KEY = #enter your api key here"
      ],
      "metadata": {
        "id": "HBb7F137wTII"
      },
      "execution_count": 3,
      "outputs": []
    },
    {
      "cell_type": "code",
      "source": [
        "# data = pickle.load( open( 'CxGData/test_data_version_lrec.pk3', 'rb' ) )\n",
        "# cxns = list( data.keys() )\n",
        "# outdata = [ cxns ]"
      ],
      "metadata": {
        "id": "S9YWS_emutEC"
      },
      "execution_count": null,
      "outputs": []
    },
    {
      "cell_type": "code",
      "execution_count": 4,
      "metadata": {
        "id": "lcNk0pTsP5qe"
      },
      "outputs": [],
      "source": [
        "openai_completion_style = 'ChatCompletion'"
      ]
    },
    {
      "cell_type": "code",
      "source": [
        "tester = runTests( 'CxGData', 'output', openai_completion_style, test_data_version='lrec', OPENAI_API_KEY=OPENAI_API_KEY)"
      ],
      "metadata": {
        "colab": {
          "base_uri": "https://localhost:8080/"
        },
        "id": "v94w0F53QCRA",
        "outputId": "2bed9284-175a-41d6-a354-34c4b854b64f"
      },
      "execution_count": 5,
      "outputs": [
        {
          "output_type": "stream",
          "name": "stdout",
          "text": [
            "Loading test data:  CxGData/test_data_version_lrec.pk3\n"
          ]
        }
      ]
    },
    {
      "cell_type": "code",
      "source": [
        "tester.test_all_cxgs( 'gpt-4o-mini', 'named_selector_example_lrec_exemplar', [ 'zero', 'one' ], test_version=2, prompt_generator='lrec' )\n"
      ],
      "metadata": {
        "colab": {
          "base_uri": "https://localhost:8080/"
        },
        "id": "GdamKOFeQGTX",
        "outputId": "e43a099d-7344-4b0f-9d48-f857d8d1682f"
      },
      "execution_count": 6,
      "outputs": [
        {
          "output_type": "stream",
          "name": "stdout",
          "text": [
            "Testing gpt-4o-mini on template named_selector_example_lrec_exemplar in the zero-shot setting, on the CXG Let Alone\n"
          ]
        },
        {
          "output_type": "stream",
          "name": "stderr",
          "text": [
            "100%|██████████| 50/50 [01:42<00:00,  2.05s/it]\n"
          ]
        },
        {
          "output_type": "stream",
          "name": "stdout",
          "text": [
            "0.0\t94.0\n",
            "Wrote outputs to:  output/gpt-4o-mini/named_selector_example_lrec_exemplar/zero/Let Alone/errors_50.csv\n",
            "Testing gpt-4o-mini on template named_selector_example_lrec_exemplar in the one-shot setting, on the CXG Let Alone\n"
          ]
        },
        {
          "output_type": "stream",
          "name": "stderr",
          "text": [
            "100%|██████████| 50/50 [01:34<00:00,  1.88s/it]"
          ]
        },
        {
          "output_type": "stream",
          "name": "stdout",
          "text": [
            "6.0\t96.0\n",
            "Wrote outputs to:  output/gpt-4o-mini/named_selector_example_lrec_exemplar/one/Let Alone/errors_50.csv\n"
          ]
        },
        {
          "output_type": "stream",
          "name": "stderr",
          "text": [
            "\n"
          ]
        }
      ]
    }
  ]
}